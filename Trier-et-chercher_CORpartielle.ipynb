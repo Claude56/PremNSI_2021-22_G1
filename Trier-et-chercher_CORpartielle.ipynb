{
 "cells": [
  {
   "cell_type": "markdown",
   "metadata": {},
   "source": [
    "<h1 style=\"color: navy\">&emsp; Chapitre 6 :   TRIER et CHERCHER dans les tableaux : <br>&emsp;&emsp; ==> Les bases de l'algorithmique </h1>\n",
    "\n",
    "<h2 style=\"color: SeaGreen\" class=\"fa fa-book\" >&emsp;  Notions de : Complexité - Terminaison - Correction </h2>"
   ]
  },
  {
   "cell_type": "markdown",
   "metadata": {},
   "source": [
    "<h3 style=\"color: DarkMagenta\" class=\"fa fa-cog\" >&emsp;   Rappels sur le chapitre 5 :</h3>"
   ]
  },
  {
   "cell_type": "markdown",
   "metadata": {},
   "source": [
    "Révision 1 :   Itérer sur les trois types suivants et afficher le résultat:"
   ]
  },
  {
   "cell_type": "code",
   "execution_count": null,
   "metadata": {},
   "outputs": [],
   "source": [
    "t = ['érable', 'chêne', 'charme', 'hêtre']\n",
    "s = 'Aux âmes bien nées'\n",
    "tup = ('Corneille', 1606, 1684)"
   ]
  },
  {
   "cell_type": "markdown",
   "metadata": {},
   "source": [
    "Révision 2 : Ecrire, compléter la fonction `moyenne()` ci-dessous:"
   ]
  },
  {
   "cell_type": "code",
   "execution_count": null,
   "metadata": {},
   "outputs": [],
   "source": [
    "def moyenne(tab):\n",
    "    \"\"\" Renvoie la moyenne d'un tableau de notes d'un élève \"\"\"\n",
    "    ...\n",
    "    \n",
    "notes = [20, 18, 12, 5] # Prévoir le cas où: notes = []\n",
    "moyenne(notes)"
   ]
  },
  {
   "cell_type": "markdown",
   "metadata": {},
   "source": [
    "Révision 3 : Compléter la fonction palindrome: (parcours d'une chaine de caractère par indice)"
   ]
  },
  {
   "cell_type": "code",
   "execution_count": 1,
   "metadata": {},
   "outputs": [
    {
     "ename": "NameError",
     "evalue": "name 'f' is not defined",
     "output_type": "error",
     "traceback": [
      "\u001b[1;31m---------------------------------------------------------------------------\u001b[0m",
      "\u001b[1;31mNameError\u001b[0m                                 Traceback (most recent call last)",
      "\u001b[1;32m~\\AppData\\Local\\Temp\\ipykernel_7816\\295255162.py\u001b[0m in \u001b[0;36m<module>\u001b[1;34m\u001b[0m\n\u001b[0;32m      2\u001b[0m     \u001b[1;33m...\u001b[0m\u001b[1;33m\u001b[0m\u001b[1;33m\u001b[0m\u001b[0m\n\u001b[0;32m      3\u001b[0m \u001b[1;33m\u001b[0m\u001b[0m\n\u001b[1;32m----> 4\u001b[1;33m \u001b[0mprint\u001b[0m\u001b[1;33m(\u001b[0m\u001b[1;34mf\"'rafia' est un palindrome ? {f('rafia')}\"\u001b[0m\u001b[1;33m)\u001b[0m\u001b[1;33m\u001b[0m\u001b[1;33m\u001b[0m\u001b[0m\n\u001b[0m\u001b[0;32m      5\u001b[0m \u001b[0mprint\u001b[0m\u001b[1;33m(\u001b[0m\u001b[1;34mf\"'kayak' est un palindrome ? {f('kayak')}\"\u001b[0m\u001b[1;33m)\u001b[0m\u001b[1;33m\u001b[0m\u001b[1;33m\u001b[0m\u001b[0m\n\u001b[0;32m      6\u001b[0m \u001b[0mprint\u001b[0m\u001b[1;33m(\u001b[0m\u001b[1;34mf\"'Saippuakivikauppias' est un palindrome ? {f('Saippuakivikauppias')}\"\u001b[0m\u001b[1;33m)\u001b[0m \u001b[1;31m# 'marchand de pierre de savon' en finnois\u001b[0m\u001b[1;33m\u001b[0m\u001b[1;33m\u001b[0m\u001b[0m\n",
      "\u001b[1;31mNameError\u001b[0m: name 'f' is not defined"
     ]
    }
   ],
   "source": [
    "def palindrome(m):\n",
    "    ...\n",
    "        \n",
    "print(f\"'rafia' est un palindrome ? {f('rafia')}\")\n",
    "print(f\"'kayak' est un palindrome ? {f('kayak')}\")\n",
    "print(f\"'Saippuakivikauppias' est un palindrome ? {f('Saippuakivikauppias')}\") # 'marchand de pierre de savon' en finnois"
   ]
  },
  {
   "cell_type": "markdown",
   "metadata": {},
   "source": [
    "Révision 4 : Récupérer et afficher (indice et nom) des différents éléments des tuples de **`tab`**, avec **`enumerate `**:"
   ]
  },
  {
   "cell_type": "code",
   "execution_count": null,
   "metadata": {},
   "outputs": [],
   "source": [
    "tab = [(0,'érable'), (1,'chêne'), (2,'charme'), (3,'hêtre')]"
   ]
  },
  {
   "cell_type": "markdown",
   "metadata": {},
   "source": [
    "Révision 4 : Construire par **compréhension** le tableau **`new_tab`** suivant:"
   ]
  },
  {
   "cell_type": "code",
   "execution_count": null,
   "metadata": {},
   "outputs": [],
   "source": [
    "tab = [5, 29, 15, 53, 50, 25, 33, 55, 67, 90, 13]\n",
    "new_tab = []\n",
    "for x in tab:\n",
    "    if x % 5 == 0:\n",
    "        new_tab.append(x) \n",
    "print(new_tab)"
   ]
  },
  {
   "cell_type": "markdown",
   "metadata": {},
   "source": [
    "Révision 5 : Construire par compréhension le tableau **`tab`** suivant:"
   ]
  },
  {
   "cell_type": "code",
   "execution_count": null,
   "metadata": {},
   "outputs": [],
   "source": [
    "\n",
    "a = 3\n",
    "tab = []\n",
    "for x in range(2 ** a):\n",
    "    for y in range(a + 1):\n",
    "        if x + y <= a:\n",
    "            tab.append([x,y])\n",
    "tab"
   ]
  },
  {
   "cell_type": "markdown",
   "metadata": {},
   "source": [
    "<h2 style=\"color: navy\" class=\"fa fa-cog\"> <mark style=\"color: navy\"> Recherches simples</mark> dans un tableau:</h2>\n",
    "\n",
    "Compléter les fonctions suivantes de parcours d'un tableau (non nécessairement trié) pour trouver si une valeur est présente : "
   ]
  },
  {
   "cell_type": "code",
   "execution_count": null,
   "metadata": {},
   "outputs": [],
   "source": [
    "def recherche_tableau(x, tab):\n",
    "    \"\"\" Renvoie l'indice de la première occurrence de x dans tab\"\"\"\n",
    "    ...\n",
    "    return False # => x n'est pas dans tab.\n",
    "\n",
    "print(recherche_tableau(33, [303, 46987, 415, 421, 33])) \n",
    "print(recherche_tableau('5', ['33','46987','415', '421']))\n",
    "print(recherche_tableau('i', 'jubilation')) "
   ]
  },
  {
   "cell_type": "code",
   "execution_count": null,
   "metadata": {},
   "outputs": [],
   "source": [
    "from random import randint\n",
    "\n",
    "def max_tableau(tab):\n",
    "    \"Renvoie le même résultat que la fonction Python: max(t)\"\n",
    "    ...\n",
    "    \n",
    "    \n",
    "tab = [randint(0, 100) for _ in range(25)]\n",
    "print(tab)\n",
    "print(max_tableau(tab))"
   ]
  },
  {
   "cell_type": "code",
   "execution_count": null,
   "metadata": {},
   "outputs": [],
   "source": [
    "from random import sample\n",
    "\n",
    "def min_tableau(tab):\n",
    "    \"\"\" Renvoie le même résultat que la fonction Python: min(t) \"\"\"\n",
    "    ...\n",
    "    \n",
    "    \n",
    "tab = sample(range(0, 100), 25) # construction de tab avec la fonction \"sample\"\n",
    "print(tab)\n",
    "print(min_tableau(tab))"
   ]
  },
  {
   "cell_type": "markdown",
   "metadata": {},
   "source": [
    "<h2 style=\"color: navy\" class=\"fa fa-gift\">&ensp; Retour sur le nombre mystère : <mark style=\"color: navy\">Recherche linéaire, aléatoire et dichotomique</mark></h2>\n",
    "\n",
    "<h3 style=\"color: SeaGreen\" class=\"fa fa-magic\" >&ensp;  1/&nbsp;  Le maître choisit le nombre mystère dans l'intervalle proposé par le joueur, qui applique ici une stratégie de recherche linéaire: </h3>  \n",
    "\n",
    "Les notebook Jupyter ne proposent pas de console interactive, aussi il est préférable d'utiliser ici un éditeur Python comme Thonny. De plus, les outils pour réaliser une interface graphique diffèrent entre les supports comme jupyter et capytale.  \n",
    "L'exercice comprend deux programmes : celui du joueur plus celui du maître qui est un module appelé par le programme du joueur :  \n",
    "`import masterGuess`. Ce dernier doit être enregistré dans le même répertoire que le fichier : `playerLin.py`.   \n",
    "L'appel d'une fonction de `masterGuess.py` se fait avec la notation pointée, exemple : `masterGuess.test_lin(val)`."
   ]
  },
  {
   "cell_type": "code",
   "execution_count": null,
   "metadata": {},
   "outputs": [],
   "source": [
    "# playerLin.py\n",
    "''' Le nombre mystère, côté joueur:  RECHERCHE LINEAIRE\n",
    "'''\n",
    "\n",
    "from time import sleep\n",
    "import masterGuess # importation d'un module \"maison\"\n",
    "\n",
    "######### Déclaration fonction ##########\n",
    "def mystery_lin(intervalle):\n",
    "    \"Recherche linéaire du nombre mystère \"\n",
    "    inf, sup = intervalle\n",
    "    val = inf\n",
    "    while not masterGuess.test_lin(val) and val <= intervalle[1]: \n",
    "        val += 1\n",
    "    if val > sup :\n",
    "        print(\"\\n Le nombre mystère n'est pas dans l'intervalle ! Quelqu'un se moque de moi, je crois\")\n",
    "    else:\n",
    "        print(f\"\\nLe joueur:\\t YESss!\")\n",
    "\n",
    "###### PRG PRINCIPAL  #######\n",
    "intervalle = (int(input(\"Saisir la borne inférieure pour le nombre mystère : \")), \n",
    "    int(input(\"Saisir la borne supèrieure pour le nombre mystère : \")))\n",
    "print('\\n')\n",
    "masterGuess.init(intervalle)\n",
    "mystery_lin(intervalle)"
   ]
  },
  {
   "cell_type": "code",
   "execution_count": null,
   "metadata": {},
   "outputs": [],
   "source": [
    "#masterGuess.py\n",
    "''' Le nombre mystère:  LE MAITRE DU NOMBRE MYSTERE\n",
    "'''\n",
    "\n",
    "from random import randint\n",
    "from time import sleep\n",
    "\n",
    "######### Déclarations fonctions: ##########\n",
    "def init(intervalle) :\n",
    "    \"Choisit le nombre mystère dans l'intervalle proposé\"\n",
    "    global nb_mystery\n",
    "    inf, sup = intervalle\n",
    "    nb_mystery = randint(inf, sup)\n",
    "    #print (nb_mystery)\n",
    "    \n",
    "def test_lin(val):\n",
    "    \"Teste la valeur proposée par le joueur\"\n",
    "    global nb_essais\n",
    "    nb_essais += 1\n",
    "    print(f\"{val}\",end=' ')\n",
    "    sleep(0.5)\n",
    "    if val == nb_mystery :\n",
    "        print(f\"\\n\\nLe maitre: Bravo, tu as trouvé le nombre mystère, en {nb_essais} coups.\")\n",
    "        return True\n",
    "    print(\"=>\", end = ' ') \n",
    "    return False\n",
    "\n",
    "nb_essais = 0"
   ]
  },
  {
   "cell_type": "markdown",
   "metadata": {},
   "source": [
    "Vérifier le fonctionnement. Conclure sur l'efficacité de la recherche linéaire dans le cas d'une liste d'objets ne contituant pas liste ordonnée ?  \n",
    "Puisque ici l'intervalle est ordonné, une recherche aléatoire peut s'avérer plus efficace.  \n",
    "<h3 style=\"color: SeaGreen\" class=\"fa fa-magic\" > 2/&nbsp;  Le nombre mystère : &emsp; &emsp;stratégie de recherche aléatoire</h3>\n",
    "\n",
    "Pour chaque proposition du joueur, le maître indique : *trop petit : >* ou *trop grand : <* ou *c'est gagné !: =*.  \n",
    "L'ordinateur indique alors le nombre d'essais.  \n",
    "Établir en conséquence : `playerAlea.py` et adapter : `masterGuess.py`.  \n",
    "Vérifier le fonctionnement, puis compléter les cellules ci-dessous de ce notebook, qui constitue votre support de cours.  \n",
    "Remarque : Le maître vérifiera qu'il est confronté à un joueur ayant du bon sens."
   ]
  },
  {
   "cell_type": "code",
   "execution_count": null,
   "metadata": {},
   "outputs": [],
   "source": [
    "# playerAlea.py:"
   ]
  },
  {
   "cell_type": "code",
   "execution_count": null,
   "metadata": {},
   "outputs": [],
   "source": [
    "# masterGuess.py:"
   ]
  },
  {
   "cell_type": "markdown",
   "metadata": {},
   "source": [
    "La recherche aléatoire permet de réduire l'intervalle de recherche, à chaque coup. Mais il serait encore plus efficace de réduire de moitié l'intervalle de recherche à chaque proposition. C'est le principe de la recherche dichotomique (qui signifie: diviser par deux).\n",
    "<h3 style=\"color: SeaGreen\" class=\"fa fa-magic\" >&ensp;  3/&nbsp; Le nombre mystère :   &emsp;Stratégie de recherche dichotomique</h3>\n",
    "\n",
    "Etablir le programme `playerDicho.py` et vérifier le fonctionnement.   "
   ]
  },
  {
   "cell_type": "code",
   "execution_count": null,
   "metadata": {},
   "outputs": [],
   "source": [
    "# playerDicho.py:"
   ]
  },
  {
   "cell_type": "markdown",
   "metadata": {},
   "source": [
    "<h2 style=\"color: navy\" class=\"fa fa-trophy\">&ensp; Algorithmes de recherche <mark style=\"color: navy\">linéaire et dichotomique</mark></h2>\n",
    "\n",
    "<h3 style=\"color: SeaGreen\" class=\"fa fa-cog\" >&ensp;  &nbsp;  Rechercher une valeur x dans un tableau trié: </h3>  \n",
    "\n",
    "Reprendre la fonction `recherche_tableau(x, tab)` établie au début du notebook, établir les variantes: recherches **linéaire et dichotomique** et comparer l'efficacité de chacune."
   ]
  },
  {
   "cell_type": "code",
   "execution_count": null,
   "metadata": {},
   "outputs": [],
   "source": [
    "def recherche_lin(x, tab):\n",
    "    \"Renvoie l'indice de x dans tab\"\n",
    "    ...\n",
    "    \n",
    "x =     \n",
    "print(recherche_lin(x, tab)) # tab => tableau de 1000 aléatoires."
   ]
  },
  {
   "cell_type": "code",
   "execution_count": null,
   "metadata": {},
   "outputs": [],
   "source": [
    "def recherche_dicho(x, tab):\n",
    "    \"Renvoie l'indice de x dans tab\"\n",
    "    ...\n",
    "    \n",
    "x =     \n",
    "print(recherche_dicho(x, tab)) # tab => tableau de 1000 valeurs."
   ]
  },
  {
   "cell_type": "markdown",
   "metadata": {},
   "source": [
    "<h3 style=\"color: SeaGreen\" class=\"fa fa-thumb-tack\" >&ensp;  Conclusion : </h3>\n",
    "\n",
    "<h3 style=\"color: Navy\"> \n",
    "Commenter ici l'efficacité des recherches linéaire et dichotomique:\n",
    "<br>Spécificité de la recherche dichotomique:\n",
    "<h3>"
   ]
  },
  {
   "cell_type": "markdown",
   "metadata": {},
   "source": [
    "<h2 style=\"color: navy\" class=\"fa fa-cog\"> &nbsp;Premier algorithme de tri de tableau :&nbsp;<mark style=\"color: navy\">LE TRI PAR INSERTION</mark></h2>\n",
    "\n",
    "Puisque chercher dans un ensemble trié est plus facile que de *chercher une aiguille dans une botte de foin*, trions.  \n",
    "Le principe du tri par insertion est assez naturel. On prend les cartes une par une en commençant par la première.\n",
    "Au départ la première est supposée à sa place. On regarde la deuxième et on compare à la première, on échange si besoin. Les deux premières cartes sont donc rangées dans l'ordre.\n",
    "On regarde la troisième, on compare aux précédentes en partant de la plus proche à la première et on échange si l'ordre n'est pas bon. Si l'on n'échange pas cela signifie que l'on peut passer à la carte suivante. Maintenant les trois premières cartes sont rangées.  \n",
    "On regarde la 4ème carte et on la fait ainsi descendre à la position qui lui correspond...les 4 premières cartes sont rangées.  \n",
    "On poursuit ainsi jusqu'à la dernière carte. Voir aussi la vidéo illustrative.  \n",
    "[Vidéo:Tri par insertion](file/triInsertion.mp4)\n",
    "\n"
   ]
  },
  {
   "cell_type": "markdown",
   "metadata": {},
   "source": [
    "<h3 style=\"color: SeaGreen\" class=\"fa fa-thumb-tack\" >&nbsp;&nbsp;  Pseudo code du tri par <mark style=\"color: SeaGreen\">insertion</mark> : </h3>\n",
    "\n",
    "<img src=\"pseudoCode_Insertion.png\" width=500 height=300 />"
   ]
  },
  {
   "cell_type": "code",
   "execution_count": null,
   "metadata": {},
   "outputs": [],
   "source": [
    "# Etablir ici l'algorithme du tri par insertion d'un tableau de valeurs non ordonnées:"
   ]
  },
  {
   "cell_type": "markdown",
   "metadata": {},
   "source": [
    "<h2 style=\"color: navy\" class=\"fa fa-cog\"> &nbsp;Deuxième algorithme de tri d'un tableau : &nbsp;<mark style=\"color: navy\">LE TRI PAR SELECTION</mark> </h2>\n",
    "\n",
    "Il faut chercher le plus petit élément du tableau et l'échanger avec celui qui est au début. Le premier élément est alors le plus petit, donc à sa place.\n",
    "De nouveau il faut chercher le plus petit élément du tableau, mais en partant cette fois du 2nd élément. Puis on l'échange avec celui qui est placé deuxième. Les deux premiers éléments sont les plus petits et sont donc maintenant rangés.\n",
    "Et le cycle se poursuit ainsi. Voir la vidéo illustrative.\n",
    " \n",
    "\n",
    "[Vidéo:Tri par sélection](file/triSelection.mp4)\n",
    "\n"
   ]
  },
  {
   "cell_type": "markdown",
   "metadata": {},
   "source": [
    "<h3 style=\"color: SeaGreen\" class=\"fa fa-thumb-tack\" >&nbsp;&nbsp;  Pseudo code du tri par <mark style=\"color: SeaGreen\">sélection</mark> : </h3>\n",
    "\n",
    "<img src=\"pseudoCode_selection.png\" width=700 height=300 />"
   ]
  },
  {
   "cell_type": "code",
   "execution_count": null,
   "metadata": {},
   "outputs": [],
   "source": [
    "# Etablir ici l'algorithme du tri par sélection d'un tableau de valeurs non ordonnées:"
   ]
  },
  {
   "cell_type": "markdown",
   "metadata": {},
   "source": [
    "<h2 style=\"color: SeaGreen\" class=\"fa fa-book\" >&emsp;  Quelques notions de : <mark style=\"color: SeaGreen\">Complexité </mark></h2></br>  \n",
    "\n",
    "Un problème a rarement une solution unique. Il en est de même en informatique : souvent plusieurs algorithmes sont applicables pour résoudre une même situation. Le choix doit alors s'effectuer en comparant la **performance et le coût** des algorithmes. Pour identifier l'algorithme ayant le meilleur **coût**, il faut évaluer le temps de calcul de chaque algorithme. Cela consiste à estimer le nombre d'opérations élémentaires et le nombre de tours de boucle. Ce coût est appelé : **la complexité temporelle** (à distinguer de la complexité spatiale ou occupation mémoire).  \n",
    "Une opération élémentaire, c'est : une affectation de variable ; un calcul (addition, soustraction, multiplication ou division); ou une comparaison de deux valeurs. En général, un algorithme comprend quelques opérations élémentaires placées dans une boucle. C'est le nombre de fois qu'est parcouru la boucle qui détermine alors la complexité de l'algorithme choisi."
   ]
  },
  {
   "cell_type": "markdown",
   "metadata": {},
   "source": [
    "<h3 style=\"color: SeaGreen\" class=\"fa fa-cog\" >&ensp;  &nbsp;  Exemple avec le calcul de : x puissance n </h3></br>\n",
    "Examiner et tester les deux fonctions suivantes. Instrumenter-les de façon à afficher le nombre de boucle de chacune pour calculer: x = 2 avec n = 5, puis 3000, puis 6000 et évaluer ainsi la complexité temporelle. Puis utiliser le module `time` pour évaluer de nouveau cette complexité temporelle. Comparer et conclure: laquelle de ces deux fonctions effectuant le même calcul est la plus performante ?"
   ]
  },
  {
   "cell_type": "code",
   "execution_count": 1,
   "metadata": {},
   "outputs": [
    {
     "name": "stdout",
     "output_type": "stream",
     "text": [
      "Calcul de 2 puissance 5\n",
      "\t => avec la fonction puissance1 :\n",
      "Résultat : 32\n",
      "\t Tours de boucle : 5\n",
      "\t Complexité : 2 x 5\n",
      "\n",
      "\t => avec la fonction puissance2 :\n",
      "Résultat : 32\n",
      "\tTours de boucle 3\n",
      "\tComplexité: 6 x 3\n",
      "\n",
      "\n",
      "Calcul de 2 puissance 6\n",
      "\t => avec la fonction puissance1 :\n",
      "Résultat : 64\n",
      "\t Tours de boucle : 6\n",
      "\t Complexité : 2 x 6\n",
      "\n",
      "\t => avec la fonction puissance2 :\n",
      "Résultat : 64\n",
      "\tTours de boucle 3\n",
      "\tComplexité: 6 x 3\n",
      "\n",
      "\n",
      "Calcul de 2 puissance 12\n",
      "\t => avec la fonction puissance1 :\n",
      "Résultat : 4096\n",
      "\t Tours de boucle : 12\n",
      "\t Complexité : 2 x 12\n",
      "\n",
      "\t => avec la fonction puissance2 :\n",
      "Résultat : 4096\n",
      "\tTours de boucle 4\n",
      "\tComplexité: 6 x 4\n",
      "\n",
      "\n",
      "Calcul de 2 puissance 500\n",
      "\t => avec la fonction puissance1 :\n",
      "Résultat : 3.27339e+150\n",
      "\t Tours de boucle : 500\n",
      "\t Complexité : 2 x 500\n",
      "\n",
      "\t => avec la fonction puissance2 :\n",
      "Résultat : 3.27339e+150\n",
      "\tTours de boucle 9\n",
      "\tComplexité: 6 x 9\n",
      "\n",
      "\n",
      "Calcul de 2 puissance 1000\n",
      "\t => avec la fonction puissance1 :\n",
      "Résultat : 1.07151e+301\n",
      "\t Tours de boucle : 1000\n",
      "\t Complexité : 2 x 1000\n",
      "\n",
      "\t => avec la fonction puissance2 :\n",
      "Résultat : 1.07151e+301\n",
      "\tTours de boucle 10\n",
      "\tComplexité: 6 x 10\n",
      "\n",
      "\n",
      "Calcul de 2 puissance 5000\n",
      "\t => avec la fonction puissance1 :\n"
     ]
    },
    {
     "ename": "OverflowError",
     "evalue": "int too large to convert to float",
     "output_type": "error",
     "traceback": [
      "\u001b[0;31m---------------------------------------------------------------------------\u001b[0m",
      "\u001b[0;31mOverflowError\u001b[0m                             Traceback (most recent call last)",
      "\u001b[0;32m/tmp/ipykernel_2026/479540920.py\u001b[0m in \u001b[0;36m<module>\u001b[0;34m\u001b[0m\n\u001b[1;32m     22\u001b[0m     \u001b[0mprint\u001b[0m\u001b[0;34m(\u001b[0m\u001b[0;34mf\"Calcul de 2 puissance {n}\"\u001b[0m\u001b[0;34m)\u001b[0m\u001b[0;34m\u001b[0m\u001b[0;34m\u001b[0m\u001b[0m\n\u001b[1;32m     23\u001b[0m     \u001b[0mprint\u001b[0m\u001b[0;34m(\u001b[0m\u001b[0;34mf\"\\t => avec la fonction puissance1 :\"\u001b[0m\u001b[0;34m)\u001b[0m\u001b[0;34m\u001b[0m\u001b[0;34m\u001b[0m\u001b[0m\n\u001b[0;32m---> 24\u001b[0;31m     \u001b[0mprint\u001b[0m\u001b[0;34m(\u001b[0m\u001b[0;34mf\"Résultat : {puissance1(x, n):g}\"\u001b[0m\u001b[0;34m)\u001b[0m \u001b[0;31m#:g => spécification de format pour l'écriture scientifique\u001b[0m\u001b[0;34m\u001b[0m\u001b[0;34m\u001b[0m\u001b[0m\n\u001b[0m\u001b[1;32m     25\u001b[0m     \u001b[0mprint\u001b[0m\u001b[0;34m(\u001b[0m\u001b[0;34mf\"\\t Tours de boucle : {n}\"\u001b[0m\u001b[0;34m)\u001b[0m\u001b[0;34m\u001b[0m\u001b[0;34m\u001b[0m\u001b[0m\n\u001b[1;32m     26\u001b[0m     \u001b[0mprint\u001b[0m\u001b[0;34m(\u001b[0m\u001b[0;34mf\"\\t Complexité : 2 x {n}\\n\"\u001b[0m\u001b[0;34m)\u001b[0m\u001b[0;34m\u001b[0m\u001b[0;34m\u001b[0m\u001b[0m\n",
      "\u001b[0;31mOverflowError\u001b[0m: int too large to convert to float"
     ]
    }
   ],
   "source": [
    "def puissance1(x, n):\n",
    "    \"1 affectation; 1 multiplication et une boucle parcourue y fois\"\n",
    "    p = 1\n",
    "    for i in range (n): # i => index de la boucle\n",
    "        p = p * x  # Fin du tour de la boucle => i = i + 1\n",
    "    return p # Sortie de la boucle pour i = n\n",
    "\n",
    "def puissance2(x, n):\n",
    "    \"2 affectations; 1 test; 3 opérations et une boucle  \"\n",
    "    p, i = 1, 0\n",
    "    while n > 0:\n",
    "        if n % 2 == 1:\n",
    "            p = p * x\n",
    "        x = x * x\n",
    "        n = n // 2\n",
    "        i += 1 # i => le nombre de tours de boucle (instrumentation)\n",
    "    return p, i\n",
    "\n",
    "x = 2\n",
    "exp = [5, 6, 12, 500, 1000, 5000]\n",
    "for n in exp :\n",
    "    print(f\"Calcul de 2 puissance {n}\")\n",
    "    print(f\"\\t => avec la fonction puissance1 :\")\n",
    "    print(f\"Résultat : {puissance1(x, n):g}\") #:g => spécification de format pour l'écriture scientifique\n",
    "    print(f\"\\t Tours de boucle : {n}\")\n",
    "    print(f\"\\t Complexité : 2 x {n}\\n\")\n",
    "    print(f\"\\t => avec la fonction puissance2 :\")\n",
    "    print(f\"Résultat : {puissance2(x, n)[0]:g}\")\n",
    "    print(f\"\\tTours de boucle {puissance2(x, n)[1]}\")\n",
    "    print(f\"\\tComplexité: 6 x {puissance2(x, n)[1]}\\n\\n\")\n",
    "\n"
   ]
  },
  {
   "cell_type": "markdown",
   "metadata": {},
   "source": [
    "<h3 style=\"color: SeaGreen\" class=\"fa fa-cog\" >&ensp;  &nbsp;  Observations: </h3></br>\n",
    "\n",
    "Pour la fonction `puissance1`, sa complexité dépend de n : C(n) = 2 x n => avec n qui représente le nombre de tours de la boucle.  \n",
    "Lorsque n augmente, le critère de complexité est rapidement en faveur de la fonction `puissance2`. En fait, dès que n prend des valeurs importantes, n devient le facteur prépondérant de la complexité, peu importe le nombre d'instructions élémentaires. Aussi pour des algorithmes de ce type on a pour habitude *d'évaluer la complexité* à partir du nombre de tours de boucle :  \n",
    "Ainsi pour la fonction `puissance1` on assimile sa complexité comme quasi proportionnelle à n => pour une puissance n, avec n >> 1, c'est bien le nombre de tours de la boucle qui est prépondérant.  \n",
    "On parle alors, pour la fonction `puissance1`, de complexité d'ordre **n ou linéaire** : C (n) = n.  \n",
    "  \n",
    "Le même raisonnement pour la fonction `puissance2` nous amène à considérer le nombre de tours de la boucle `while`. Mais le nombre de tours de la boucle `while` est fonction de la condition associée, car la réalisation de cette condition provoquera la sortie de la boucle. On peut alors distinguer la complexité dans le **meilleur cas** de celle dans le **pire cas**. Bref, l'évaluation de la complexité devient délicate => solution : majorer la complexité par une fonction de référence, notée : $\\Omicron$(n) => Notation de Landau  \n",
    "Pour la fonction `puissanc2` le nombre de tours de boucle est d'environ : $log{_2}(n+1)$.\n",
    "\n",
    "Rappels :  $log{_2}(2^x) = x$  et avec les calculatrices :  $log{_2}(n) = \\frac {log(n)}{log(2)}$  \n",
    "\n",
    "Si on cherche *a* tel que $2^a = n$ alors $log{_2}(2^a) = log{_2}(n) = a$  \n",
    "\n",
    "La complexité de la fonction `puissance2` se rapproche de : $\\Omicron (n) = log{_2}(n+1)$"
   ]
  },
  {
   "cell_type": "markdown",
   "metadata": {},
   "source": [
    "<h3 style=\"color: SeaGreen\" class=\"fa fa-cog\" >&ensp;  &nbsp; Les classes de complexité : </h3></br>\n",
    "\n",
    "<img src=\"classes-de-complexité.png\" width=1024 height=512 />"
   ]
  }
 ],
 "metadata": {
  "kernelspec": {
   "display_name": "Python 3 (ipykernel)",
   "language": "python",
   "name": "python3"
  },
  "language_info": {
   "codemirror_mode": {
    "name": "ipython",
    "version": 3
   },
   "file_extension": ".py",
   "mimetype": "text/x-python",
   "name": "python",
   "nbconvert_exporter": "python",
   "pygments_lexer": "ipython3",
   "version": "3.7.3"
  }
 },
 "nbformat": 4,
 "nbformat_minor": 2
}
