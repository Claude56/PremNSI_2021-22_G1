{
 "cells": [
  {
   "cell_type": "markdown",
   "metadata": {},
   "source": [
    "<h1 style=\"color: navy\">&emsp; Chapitre 6 :   TRIER et CHERCHER dans les tableaux : <br>&emsp;&emsp; ==> Les bases de l'algorithmique </h1>\n",
    "\n",
    "<h2 style=\"color: SeaGreen\" class=\"fa fa-book\" >&emsp;  Notions de : Complexité - Terminaison - Correction </h2>"
   ]
  },
  {
   "cell_type": "markdown",
   "metadata": {},
   "source": [
    "<h3 style=\"color: DarkMagenta\" class=\"fa fa-cog\" >&emsp;   Rappels sur le chapitre 5 :</h3>"
   ]
  },
  {
   "cell_type": "markdown",
   "metadata": {},
   "source": [
    "Révision 1 :   Itérer sur les trois types suivants et afficher le résultat:"
   ]
  },
  {
   "cell_type": "code",
   "execution_count": null,
   "metadata": {},
   "outputs": [],
   "source": [
    "t = ['érable', 'chêne', 'charme', 'hêtre']\n",
    "s = 'Aux âmes bien nées'\n",
    "tup = ('Corneille', 1606, 1684)"
   ]
  },
  {
   "cell_type": "markdown",
   "metadata": {},
   "source": [
    "Révision 2 : Ecrire, compléter la fonction `moyenne()` ci-dessous:"
   ]
  },
  {
   "cell_type": "code",
   "execution_count": null,
   "metadata": {},
   "outputs": [],
   "source": [
    "def moyenne(tab):\n",
    "    \"\"\" Renvoie la moyenne d'un tableau de notes d'un élève \"\"\"\n",
    "    ...\n",
    "    \n",
    "notes = [20, 18, 12, 5] # Prévoir le cas où: notes = []\n",
    "moyenne(notes)"
   ]
  },
  {
   "cell_type": "markdown",
   "metadata": {},
   "source": [
    "Révision 3 : Compléter la fonction palindrome: (parcours d'une chaine de caractère par indice)"
   ]
  },
  {
   "cell_type": "code",
   "execution_count": null,
   "metadata": {},
   "outputs": [],
   "source": [
    "def palindrome(m):\n",
    "    ...\n",
    "        \n",
    "print(f\"'rafia' est un palindrome ? {f('rafia')}\")\n",
    "print(f\"'kayak' est un palindrome ? {f('kayak')}\"\n",
    "print(f\"'Saippuakivikauppias' est un palindrome ? {f('Saippuakivikauppias')}\" # 'marchand de pierre de savon' en finnois"
   ]
  },
  {
   "cell_type": "markdown",
   "metadata": {},
   "source": [
    "Révision 4 : Récupérer et afficher (indice et nom) des différents éléments des tuples de **`tab`**, avec **`enumerate `**:"
   ]
  },
  {
   "cell_type": "code",
   "execution_count": null,
   "metadata": {},
   "outputs": [],
   "source": [
    "tab = [(0,'érable'), (1,'chêne'), (2,'charme'), (3,'hêtre')]"
   ]
  },
  {
   "cell_type": "markdown",
   "metadata": {},
   "source": [
    "Révision 4 : Construire par **compréhension** le tableau **`new_tab`** suivant:"
   ]
  },
  {
   "cell_type": "code",
   "execution_count": null,
   "metadata": {},
   "outputs": [],
   "source": [
    "tab = [5, 29, 15, 53, 50, 25, 33, 55, 67, 90, 13]\n",
    "new_tab = []\n",
    "for x in tab:\n",
    "    if x % 5 == 0:\n",
    "        new_tab.append(x) \n",
    "print(new_tab)"
   ]
  },
  {
   "cell_type": "markdown",
   "metadata": {},
   "source": [
    "Révision 5 : Construire par compréhension le tableau **`tab`** suivant:"
   ]
  },
  {
   "cell_type": "code",
   "execution_count": null,
   "metadata": {},
   "outputs": [],
   "source": [
    "a = 3\n",
    "tab = []\n",
    "for x in range(2 ** a):\n",
    "    for y in range(a + 1):\n",
    "        if x + y <= a:\n",
    "            tab.append([x,y])\n",
    "tab"
   ]
  },
  {
   "cell_type": "markdown",
   "metadata": {},
   "source": [
    "<h2 style=\"color: navy\" class=\"fa fa-cog\"> <mark style=\"color: navy\"> Recherches simples</mark> dans un tableau:</h2>\n",
    "\n",
    "Compléter les fonctions suivantes de parcours d'un tableau (non nécessairement trié) pour trouver si une valeur est présente : "
   ]
  },
  {
   "cell_type": "code",
   "execution_count": null,
   "metadata": {},
   "outputs": [],
   "source": [
    "def recherche_tableau(x, tab):\n",
    "    \"\"\" Renvoie l'indice de la première occurrence de x dans tab\"\"\"\n",
    "    ...\n",
    "    return False # => x n'est pas dans tab.\n",
    "\n",
    "print(recherche_tableau(33, [303, 46987, 415, 421, 33])) \n",
    "print(recherche_tableau('5', ['33','46987','415', '421']))\n",
    "print(recherche_tableau('i', 'jubilation')) "
   ]
  },
  {
   "cell_type": "code",
   "execution_count": null,
   "metadata": {},
   "outputs": [],
   "source": [
    "from random import randint\n",
    "\n",
    "def max_tableau(tab):\n",
    "    \"Renvoie le même résultat que la fonction Python: max(t)\"\n",
    "    ...\n",
    "    \n",
    "    \n",
    "tab = [randint(0, 100) for _ in range(25)]\n",
    "print(tab)\n",
    "print(max_tableau(tab))"
   ]
  },
  {
   "cell_type": "code",
   "execution_count": null,
   "metadata": {},
   "outputs": [],
   "source": [
    "from random import sample\n",
    "\n",
    "def min_tableau(tab):\n",
    "    \"\"\" Renvoie le même résultat que la fonction Python: min(t) \"\"\"\n",
    "    ...\n",
    "    \n",
    "    \n",
    "tab = sample(range(0, 100), 25) # construction de tab avec la fonction \"sample\"\n",
    "print(tab)\n",
    "print(min_tableau(tab))"
   ]
  },
  {
   "cell_type": "markdown",
   "metadata": {},
   "source": [
    "<h2 style=\"color: navy\" class=\"fa fa-gift\">&ensp; Retour sur le nombre mystère : <mark style=\"color: navy\">Recherche linéaire, aléatoire et dichotomique</mark></h2>\n",
    "\n",
    "<h3 style=\"color: SeaGreen\" class=\"fa fa-magic\" >&ensp;  1/&nbsp;  Le maitre choisit le nombre mystère dans l'intervalle proposée par le joueur, qui applique ici une stratégie de recherche linéaire: </h3>  \n",
    "\n",
    "Les notebook Jupyter ne proposent pas de console interactive, aussi il est préférable d'utiliser ici un éditeur Python comme Thonny. De plus, les outils pour réaliser une interface graphique diffèrent entre les supports comme jupyter et capytale.  \n",
    "L'exercice comprend deux programmes: celui du joueur plus celui du maitre qui est un module appelé par le programme du joueur:  \n",
    "`import masterGuess`. Ce dernier doit etre enregistré dans le même répertoire que le fichier: `playerLin.py`.   \n",
    "L'appel d'une fonction de `masterGuess.py` se fait avec la notation pointée, exemple : `masterGuess.test_lin(val)`."
   ]
  },
  {
   "cell_type": "code",
   "execution_count": null,
   "metadata": {},
   "outputs": [],
   "source": [
    "# playerLin.py\n",
    "''' Le nombre mystère, côté joueur:  RECHERCHE LINEAIRE\n",
    "'''\n",
    "\n",
    "from time import sleep\n",
    "import masterGuess # importation d'un module \"maison\"\n",
    "\n",
    "######### Déclaration fonction ##########\n",
    "def mystery_lin(intervalle):\n",
    "    \"Recherche linéaire du nombre mystère \"\n",
    "    inf, sup = intervalle\n",
    "    val = inf\n",
    "    while not masterGuess.test_lin(val) and val <= intervalle[1]: \n",
    "        val += 1\n",
    "    if val > sup :\n",
    "        print(\"\\n Le nombre mystère n'est pas dans l'intervalle ! Quelqu'un se moque de moi, je crois\")\n",
    "    else:\n",
    "        print(f\"\\nLe joueur:\\t YESss!\")\n",
    "\n",
    "###### PRG PRINCIPAL  #######\n",
    "intervalle = (int(input(\"Saisir la borne inférieure pour le nombre mystère : \")), \n",
    "    int(input(\"Saisir la borne supèrieure pour le nombre mystère : \")))\n",
    "print('\\n')\n",
    "masterGuess.init(intervalle)\n",
    "mystery_lin(intervalle)"
   ]
  },
  {
   "cell_type": "code",
   "execution_count": null,
   "metadata": {},
   "outputs": [],
   "source": [
    "#masterGuess.py\n",
    "''' Le nombre mystère:  LE MAITRE DU NOMBRE MYSTERE\n",
    "'''\n",
    "\n",
    "from random import randint\n",
    "from time import sleep\n",
    "\n",
    "######### Déclarations fonctions: ##########\n",
    "def init(intervalle) :\n",
    "    \"Choisit le nombre mystère dans l'intervalle proposé\"\n",
    "    global nb_mystery\n",
    "    inf, sup = intervalle\n",
    "    nb_mystery = randint(inf, sup)\n",
    "    #print (nb_mystery)\n",
    "    \n",
    "def test_lin(val):\n",
    "    \"Teste la valeur proposée par le joueur\"\n",
    "    global nb_essais\n",
    "    nb_essais += 1\n",
    "    print(f\"{val}\",end=' ')\n",
    "    sleep(0.5)\n",
    "    if val == nb_mystery :\n",
    "        print(f\"\\n\\nLe maitre: Bravo, tu as trouvé le nombre mystère, en {nb_essais} coups.\")\n",
    "        return True\n",
    "    print(\"=>\", end = ' ') \n",
    "    return False\n",
    "\n",
    "nb_essais = 0"
   ]
  },
  {
   "cell_type": "markdown",
   "metadata": {},
   "source": [
    "Vérifier le fonctionnement. Conclure sur l'efficacité de la recherche linéaire dans le cas d'une liste d'objets ne contituant pas liste ordonnée ?  \n",
    "Puisque ici l'intervalle est ordonné, une recherche aléatoire peut s'avérer plus efficace.  \n",
    "<h3 style=\"color: SeaGreen\" class=\"fa fa-magic\" > 2/&nbsp;  Le nombre mystère : &emsp; &emsp;stratégie de recherche aléatoire</h3>\n",
    "\n",
    "Pour chaque proposition du joueur, le maitre indique: *trop petit: >* ou *trop grand: <* ou *c'est gagné!: =*.  \n",
    "L'ordinateur indique alors le nombre d'essais.  \n",
    "Etablir en conséquence : `playerAlea.py` et adapter : `masterGuess.py`.  \n",
    "Vérifier le fonctionnement, puis compléter les cellules ci-dessous de ce notebook, qui constitue votre support de cours.  \n",
    "Remarque: Le maitre vérifiera qu'il affaire à un joueur ayant du bon sens."
   ]
  },
  {
   "cell_type": "code",
   "execution_count": null,
   "metadata": {},
   "outputs": [],
   "source": [
    "# playerAlea.py:"
   ]
  },
  {
   "cell_type": "code",
   "execution_count": null,
   "metadata": {},
   "outputs": [],
   "source": [
    "# masterGuess.py:"
   ]
  },
  {
   "cell_type": "markdown",
   "metadata": {},
   "source": [
    "La recherche aléatoire permet de réduire l'intervalle de recherche, à chaque coup. Mais il serait encore plus efficace de réduire de moitié l'intervalle de recherche à chaque proposition. C'est le principe de la recherche dichotomique (qui signifie: diviser par deux).\n",
    "<h3 style=\"color: SeaGreen\" class=\"fa fa-magic\" >&ensp;  3/&nbsp; Le nombre mystère :   &emsp;Stratégie de recherche dichotomique</h3>\n",
    "\n",
    "Etablir le programme `playerDicho.py` et vérifier le fonctionnement.   "
   ]
  },
  {
   "cell_type": "code",
   "execution_count": null,
   "metadata": {},
   "outputs": [],
   "source": [
    "# playerDicho.py:"
   ]
  },
  {
   "cell_type": "markdown",
   "metadata": {},
   "source": [
    "<h2 style=\"color: navy\" class=\"fa fa-trophy\">&ensp; Algorithmes de recherche <mark style=\"color: navy\">linéaire et dichotomique</mark></h2>\n",
    "\n",
    "<h3 style=\"color: SeaGreen\" class=\"fa fa-cog\" >&ensp;  &nbsp;  Rechercher une valeur x dans un tableau trié: </h3>  \n",
    "\n",
    "Reprendre la fonction `recherche_tableau(x, tab)` établie au début du notebook, établir les variantes: recherches **linéaire et dichotomique** et comparer l'efficacité de chacune."
   ]
  },
  {
   "cell_type": "code",
   "execution_count": null,
   "metadata": {},
   "outputs": [],
   "source": [
    "def recherche_lin(x, tab):\n",
    "    \"Renvoie l'indice de x dans tab\"\n",
    "    ...\n",
    "    \n",
    "x =     \n",
    "print(recherche_lin(x, tab)) # tab => tableau de 1000 aléatoires."
   ]
  },
  {
   "cell_type": "code",
   "execution_count": null,
   "metadata": {},
   "outputs": [],
   "source": [
    "def recherche_dicho(x, tab):\n",
    "    \"Renvoie l'indice de x dans tab\"\n",
    "    ...\n",
    "    \n",
    "x =     \n",
    "print(recherche_dicho(x, tab)) # tab => tableau de 1000 valeurs."
   ]
  },
  {
   "cell_type": "markdown",
   "metadata": {},
   "source": [
    "<h3 style=\"color: SeaGreen\" class=\"fa fa-thumb-tack\" >&ensp;  Conclusion : </h3>\n",
    "\n",
    "<h3 style=\"color: Navy\"> \n",
    "Commenter ici l'efficacité des recherches linéaire et dichotomique:\n",
    "<br>Spécificité de la recherche dichotomique:\n",
    "<h3>"
   ]
  },
  {
   "cell_type": "markdown",
   "metadata": {},
   "source": [
    "<h2 style=\"color: navy\" class=\"fa fa-cog\"> &nbsp;Algorithme de <mark style=\"color: navy\"> TRI PAR INSERTION</mark> d'un tableau:</h2>\n",
    "\n",
    "Puisque chercher dans un ensemble trié est plus facile que de *chercher une aiguille dans une botte de foin*, trions.  \n",
    "Le principe du tri par insertion est assez naturel. On prend les cartes une par une en commençant par la première.\n",
    "Au départ la première est supposée à sa place. On regarde la deuxième et on compare à la premiere, on échange si besoin. Les deux premières cartes sont donc rangées dans l'ordre.\n",
    "On regarde la troisième, on compare aux précédentes en partant de la plus proche à la première et on échange si l'ordre n'est pas bon. Si l'on n'échange pas cela signifie que l'on peut passer à la carte suivante. Maintenant les trois premières cartes sont rangées.  \n",
    "On regarde la 4ème carte et on la fait ainsi descendre à la position qui lui correspond...les 4 premières cartes sont rangées.  \n",
    "On poursuit ainsi jusqu'à la dernière carte.  \n",
    "[Vidéo:Tri par insertion](file/triInsertion.mp4)\n",
    "\n"
   ]
  },
  {
   "cell_type": "code",
   "execution_count": null,
   "metadata": {},
   "outputs": [],
   "source": [
    "# Etablir l'algorithme du tri par insertion d'un tableau de valeurs non ordonnées:"
   ]
  },
  {
   "cell_type": "markdown",
   "metadata": {},
   "source": [
    "<h2 style=\"color: navy\" class=\"fa fa-cog\"> &nbsp;Algorithme de <mark style=\"color: navy\"> TRI PAR SELECTION</mark> d'un tableau:</h2>\n",
    "\n",
    "On cherche le plus petit élément du tableau et on l'échange avec celui qui est au début. Le premier élément est maintenant le plus petit.\n",
    "Maintenant on cherche le plus petit élément du tableau mais en partant du 2nd élément et on l'échange avec celui qui est placé deuxième. Les deux premiers éléments sont les plus petits et sont rangés.\n",
    "On poursuit ainsi.\n",
    " \n",
    "\n",
    "[Vidéo:Tri par sélection](file/triSelection.mp4)\n",
    "\n"
   ]
  },
  {
   "cell_type": "code",
   "execution_count": null,
   "metadata": {},
   "outputs": [],
   "source": [
    "# Etablir l'algorithme du tri par sélection d'un tableau de valeurs non ordonnées:"
   ]
  }
 ],
 "metadata": {
  "kernelspec": {
   "display_name": "Python 3 (ipykernel)",
   "language": "python",
   "name": "python3"
  },
  "language_info": {
   "codemirror_mode": {
    "name": "ipython",
    "version": 3
   },
   "file_extension": ".py",
   "mimetype": "text/x-python",
   "name": "python",
   "nbconvert_exporter": "python",
   "pygments_lexer": "ipython3",
   "version": "3.7.3"
  }
 },
 "nbformat": 4,
 "nbformat_minor": 2
}
