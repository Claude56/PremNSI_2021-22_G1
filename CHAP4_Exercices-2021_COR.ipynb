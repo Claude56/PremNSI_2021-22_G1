{
 "cells": [
  {
   "cell_type": "markdown",
   "id": "auburn-right",
   "metadata": {},
   "source": [
    "<h1 style=\"color: navy\"> Correction des exercices chapitre 4 : 9; 10; 16; 25</h1>"
   ]
  },
  {
   "cell_type": "markdown",
   "id": "tutorial-youth",
   "metadata": {},
   "source": [
    "<h3 style=\"color: SeaGreen\" class=\"fa fa-cog\" >  Exercice 9: </h3>  \n",
    "\n",
    "Écrire une fonction qui prend en paramètre une chaîne de caractères représentant un entier positif, par exemple \"12345\", et retourne le nombre entier correspondant, sans utiliser la fonction int()."
   ]
  },
  {
   "cell_type": "code",
   "execution_count": 3,
   "id": "executed-netherlands",
   "metadata": {},
   "outputs": [
    {
     "name": "stdout",
     "output_type": "stream",
     "text": [
      "421  ==>  <class 'int'>\n",
      "9999  ==>  <class 'int'>\n",
      "3300  ==>  <class 'int'>\n"
     ]
    }
   ],
   "source": [
    "### Variante 0 ###\n",
    "chiffres = '0123456789'\n",
    "\n",
    "def nombreNum (nombreCar):\n",
    "    \"Convertit nbreCar (un nombre en caractère) en valeur numérique\"\n",
    "    valeur = 0 # si caractère inconnu => 0\n",
    "    for car in nombreCar: # lecture de nombreCar\n",
    "        chiffre = 0\n",
    "        for i in range(len(chiffres)): # Identification de la valeur de car \n",
    "            if car == chiffres[i]:\n",
    "                chiffre = i\n",
    "        valeur = valeur * 10 + chiffre\n",
    "    return valeur\n",
    "            \n",
    "n1 = nombreNum('421')\n",
    "print(n1,\" ==> \", type(n1))\n",
    "n2 = nombreNum('9999')\n",
    "print(n2,\" ==> \", type(n2))\n",
    "n3 = nombreNum('aa33bb')\n",
    "print(n3,\" ==> \", type(n3))"
   ]
  },
  {
   "cell_type": "code",
   "execution_count": null,
   "id": "wireless-extra",
   "metadata": {},
   "outputs": [],
   "source": [
    "### Variante 1 ###\n",
    "chiffres = '0123456789'\n",
    "\n",
    "def chiffre(car):\n",
    "    \"Retourne la valeur du chiffre correspondant à 'car'\"\n",
    "    for i in range(10):\n",
    "        if car == chiffres[i]:\n",
    "            return i\n",
    "    return 0   # si caractère inconnu => 0\n",
    "        \n",
    "def nombreNum(nombreCar):\n",
    "    \"Renvoie la valeur numérique de la chaîne 'nombreCar'\"\n",
    "    valeur = 0\n",
    "    for car in nombreCar: # lecture de nombreCar\n",
    "        valeur = valeur *10 + chiffre(car)\n",
    "    return valeur    \n",
    "\n",
    "n1 = nombreNum('421')\n",
    "print(n1,\" ==> \", type(n1))\n",
    "n2 = nombreNum('9999')\n",
    "print(n2,\" ==> \", type(n2))\n",
    "n3 = nombreNum('aa33bb')\n",
    "print(n3,\" ==> \", type(n3))"
   ]
  },
  {
   "cell_type": "code",
   "execution_count": null,
   "id": "coastal-crash",
   "metadata": {},
   "outputs": [],
   "source": [
    "### Variante 2: avec la méthode index() des listes ###\n",
    "chiffres = '0123456789'\n",
    "\n",
    "def chiffre(car): \n",
    "    \"Retourne la valeur du chiffre correspondant à 'car'\"\n",
    "    if car in chiffres: # Problème: si 'car' n'est pas dans 'chiffres'\n",
    "        return chiffres.index(car) # La méthode 'index()' appliquée à la liste 'chiffres':\n",
    "                                    # => renvoie l'indice de la position de 'car'\n",
    "    return 0        \n",
    "        \n",
    "def nombreNum(nombreCar):\n",
    "    \"Renvoie la valeur numérique de la chaîne 'nombreCar'\"\n",
    "    valeur = 0\n",
    "    for car in nombreCar:\n",
    "        valeur = valeur *10 + chiffre(car)\n",
    "    return valeur    \n",
    "\n",
    "n1 = nombreNum('421')\n",
    "print(n1,\" ==> \", type(n1))\n",
    "n2 = nombreNum('9999')\n",
    "print(n2,\" ==> \", type(n2))\n",
    "n3 = nombreNum('aa33bb')\n",
    "print(n3,\" ==> \", type(n3))"
   ]
  },
  {
   "cell_type": "code",
   "execution_count": null,
   "id": "changed-worthy",
   "metadata": {},
   "outputs": [],
   "source": [
    "### Variante 3: avec un dictionnaire ###\n",
    "\n",
    "\n",
    "def chiffre(car): \n",
    "    \"Retourne la valeur du chiffre correspondant à 'car'\"\n",
    "    chiffres = { '0': 0, '1': 1, '2': 2, '3': 3, '4': 4, '5': 5,\n",
    "                   '6': 6, '7': 7, '8': 8, '9': 9 }\n",
    "    if car in chiffres: # Problème: si 'car' n'est pas dans 'chiffres'\n",
    "        return chiffres[car] # retourne la valeur correspondant à la clé: car\n",
    "    return 0        \n",
    "        \n",
    "def nombreNum(nombreCar):\n",
    "    \"Renvoie la valeur numérique de la chaîne 'nombreCar'\"\n",
    "    valeur = 0\n",
    "    for car in nombreCar:\n",
    "        valeur = valeur *10 + chiffre(car)\n",
    "    return valeur    \n",
    "\n",
    "n1 = nombreNum('421')\n",
    "print(n1,\" ==> \", type(n1))\n",
    "n2 = nombreNum('9999')\n",
    "print(n2,\" ==> \", type(n2))\n",
    "n3 = nombreNum('aa33bb')\n",
    "print(n3,\" ==> \", type(n3))"
   ]
  },
  {
   "cell_type": "markdown",
   "id": "blond-economy",
   "metadata": {},
   "source": [
    "<h3 style=\"color: SeaGreen\" class=\"fa fa-cog\" >  Exercice 10: </h3>  \n",
    "\n",
    "Écrire une fonction qui prend en paramètre un mot de passe et retourne `True` s’il vérifie les propriétés suivantes : il a au moins 8 caractères et contient au moins une majuscule, une minuscule, un chiffre et un caractère spécial (qui n’est ni une lettre ni un chiffre)."
   ]
  },
  {
   "cell_type": "code",
   "execution_count": 5,
   "id": "legitimate-metabolism",
   "metadata": {},
   "outputs": [
    {
     "name": "stdout",
     "output_type": "stream",
     "text": [
      "False\n",
      "False\n",
      "False\n",
      "False\n",
      "False\n",
      "True\n"
     ]
    }
   ],
   "source": [
    "minuscules = 'abcdefghijklmnopqrstuvwxyz'\n",
    "majuscules = 'ABCDEFGHIJKLMNOPQRSTUVWXYZ'\n",
    "chiffres = '0123456789'\n",
    "\n",
    "def checkPassWord (passWord):\n",
    "    if len(passWord) < 8:\n",
    "        return False\n",
    "    minuscule, majuscule, chiffre, special = False, False, False, False\n",
    "    for car in passWord:\n",
    "        if car in minuscules:\n",
    "            minuscule = True\n",
    "        elif car in majuscules:\n",
    "            majuscule = True\n",
    "        elif car in chiffres:\n",
    "            chiffre = True\n",
    "        else: # 'car' est un caractère spécial\n",
    "            special = True\n",
    "    return minuscule and majuscule and chiffre and special\n",
    "            \n",
    "    \n",
    "print(checkPassWord('Lesage'))\n",
    "print(checkPassWord('lesage2021'))\n",
    "print(checkPassWord('LESAGE2021'))\n",
    "print(checkPassWord('Turcaret'))\n",
    "print(checkPassWord('Lesage2021'))\n",
    "print(checkPassWord('Lesage_2021'))"
   ]
  },
  {
   "cell_type": "markdown",
   "id": "pending-modem",
   "metadata": {},
   "source": [
    "Les méthodes isupper(), islower(), isalpha() et isdigit() des chaînes de caractères peuvent être utilisées. Elles ont l'avantage de prendre en compte les caractères accentués:"
   ]
  },
  {
   "cell_type": "code",
   "execution_count": 6,
   "id": "biological-effect",
   "metadata": {},
   "outputs": [
    {
     "name": "stdout",
     "output_type": "stream",
     "text": [
      "True\n",
      "False\n",
      "True\n",
      "False\n",
      "True\n",
      "True\n",
      "True\n"
     ]
    },
    {
     "data": {
      "text/plain": [
       "True"
      ]
     },
     "execution_count": 6,
     "metadata": {},
     "output_type": "execute_result"
    }
   ],
   "source": [
    "print('ABC'.isupper())\n",
    "print('Aa'.isupper())\n",
    "print('abc'.islower())\n",
    "print('Aa'.islower())\n",
    "print('éàç'.islower())\n",
    "print('Été'.isalpha())\n",
    "print('123'.isdigit())\n",
    "\n",
    "True or False"
   ]
  },
  {
   "cell_type": "code",
   "execution_count": null,
   "id": "proof-sessions",
   "metadata": {},
   "outputs": [],
   "source": [
    "def checkPassWord (passWord):\n",
    "    if len(passWord) < 8:\n",
    "        return False\n",
    "    minuscule, majuscule, chiffre, special = False, False, False, False\n",
    "    for car in passWord:\n",
    "        minuscule = car.islower() or minuscule\n",
    "        majuscule = car.isupper() or majuscule\n",
    "        chiffre = car.isdigit() or chiffre\n",
    "        special = (not car.isalpha() and not car.isdigit()) or special\n",
    "    return minuscule and majuscule and chiffre and special\n",
    "            \n",
    "print(checkPassWord('Lesage'))\n",
    "print(checkPassWord('lesage2021'))\n",
    "print(checkPassWord('LESAGE2021'))\n",
    "print(checkPassWord('Turcaret'))\n",
    "print(checkPassWord('Lesage2021'))\n",
    "print(checkPassWord('Lesage_2021'))"
   ]
  },
  {
   "cell_type": "code",
   "execution_count": 8,
   "id": "pleasant-willow",
   "metadata": {},
   "outputs": [
    {
     "name": "stdout",
     "output_type": "stream",
     "text": [
      "Saisir votre mot de passe: ········\n",
      "togjjiu\n"
     ]
    }
   ],
   "source": [
    "import getpass\n",
    "\n",
    "pw = getpass.getpass(prompt='Saisir votre mot de passe: ') \n",
    "# ou : getpass.getpass(prompt='Password: ', stream=None) \n",
    "print(pw)"
   ]
  },
  {
   "cell_type": "markdown",
   "id": "established-virgin",
   "metadata": {},
   "source": [
    "<h3 style=\"color: SeaGreen\" class=\"fa fa-cog\" >  Exercice 16: Calcul de distances </h3>  \n",
    "\n",
    "a) Écrire une fonction `distance` qui prend deux tuples contenant chacun deux coordonnées *x, y*, et qui retourne leur distance euclidienne. Pour rappel, la fonction `sqrt` retourne la racine carrée d’une expression, et doit être importée depuis la bibliothèque `math`."
   ]
  },
  {
   "cell_type": "code",
   "execution_count": 4,
   "id": "invisible-liverpool",
   "metadata": {},
   "outputs": [
    {
     "name": "stdout",
     "output_type": "stream",
     "text": [
      "1.4142135623730951\n",
      "1.4142135623730951\n"
     ]
    }
   ],
   "source": [
    "from math import sqrt\n",
    "\n",
    "def distance1(p1, p2):\n",
    "    \"\"\" Retourne la distance euclidienne entre deux points: version 1 \"\"\"\n",
    "    x1, y1 = p1\n",
    "    x2, y2 = p2\n",
    "    dx = x2 - x1\n",
    "    dy = y2 - y1\n",
    "    return sqrt(dx**2 + dy**2)\n",
    "\n",
    "def distance2(p1, p2):\n",
    "    \"\"\" Retourne la distance euclidienne entre deux points: version 2 \"\"\"\n",
    "    return (sqrt(pow((p2[0] - p1[0]),2) + pow((p2[1] - p1[1]),2)))\n",
    "\n",
    "print(distance1((3,5),(4,6)))\n",
    "print(distance2((3,5),(4,6)))"
   ]
  },
  {
   "cell_type": "markdown",
   "id": "presidential-sending",
   "metadata": {},
   "source": [
    "b) Un dessin est stocké dans un tableau contenant les points successifs sous forme de tuples *(x, y)*. Voir le fichier: *distances.py*   \n",
    "\n",
    "=> **Écrire une fonction qui prend en paramètre un tel tableau et retourne les dimensions *(largeur, hauteur)* du dessin.**\n"
   ]
  },
  {
   "cell_type": "code",
   "execution_count": 3,
   "id": "reflected-subscriber",
   "metadata": {},
   "outputs": [
    {
     "data": {
      "image/png": "[encoded data removed]",
      "text/plain": [
       "<Figure size 432x288 with 1 Axes>"
      ]
     },
     "metadata": {
      "needs_background": "light"
     },
     "output_type": "display_data"
    },
    {
     "data": {
      "image/png": "[encoded data removed]",
      "text/plain": [
       "<Figure size 432x288 with 1 Axes>"
      ]
     },
     "metadata": {
      "needs_background": "light"
     },
     "output_type": "display_data"
    },
    {
     "data": {
      "image/png": "[encoded data removed]",
      "text/plain": [
       "<Figure size 432x288 with 1 Axes>"
      ]
     },
     "metadata": {
      "needs_background": "light"
     },
     "output_type": "display_data"
    }
   ],
   "source": [
    "# Contenu du fichier distances.py => disponible en téléchargement sur le site Hachette:\n",
    "\n",
    "dessin1 = [(100, 100), (200, 200), (200, 100), (100, 200), (100, 100)]\n",
    "dessin2 = [(208, 64), (142, 23), (130, 82), (84, 98), (342, 150), (135, 81), \n",
    "           (145, 28), (156, 74), (237, 61), (348, 150), (156, 76)]\n",
    "dessin3 = [(145, 25), (66, 34), (134, 53), (97, 57), (57, 48), (100, 43), \n",
    "           (174, 62), (130, 66), (0, 37), (141, 23), (140, 13), (247, 169), \n",
    "           (371, 184), (279, 45), (139, 12), (2, 35)]\n",
    "\n",
    "# fonction pour afficher un dessin\n",
    "from matplotlib.pyplot import plot, show\n",
    "def affiche_dessin(dessin):\n",
    "    plot([p[0] for p in dessin], [p[1] for p in dessin])\n",
    "    show()\n",
    "\n",
    "# afficher les trois dessins\n",
    "affiche_dessin(dessin1)\n",
    "affiche_dessin(dessin2)\n",
    "affiche_dessin(dessin3)"
   ]
  },
  {
   "cell_type": "markdown",
   "id": "roman-oakland",
   "metadata": {},
   "source": [
    "Remarques: à propos du tracé avec plot()  \n",
    "- Rappel: sens du repère sur support numérique => voir libreoffice: dessin\n",
    "- Exemple de compréhension de liste ( chapitre 5) => voir ci-dessous\n"
   ]
  },
  {
   "cell_type": "code",
   "execution_count": 10,
   "id": "finished-chase",
   "metadata": {},
   "outputs": [
    {
     "name": "stdout",
     "output_type": "stream",
     "text": [
      "[100, 200, 200, 100, 100]\n",
      "[100, 200, 100, 200, 100]\n"
     ]
    },
    {
     "data": {
      "image/png": "[encoded data removed]",
      "text/plain": [
       "<Figure size 432x288 with 1 Axes>"
      ]
     },
     "metadata": {
      "needs_background": "light"
     },
     "output_type": "display_data"
    }
   ],
   "source": [
    "from matplotlib.pyplot import plot, show\n",
    "def affiche_dessin(dessin):\n",
    "    x, y = [], []\n",
    "    for i in range (len(dessin)):\n",
    "        x.append(dessin[i][0]) # ou en seule ligne: [p[0] for p in dessin]\n",
    "        y.append(dessin[i][1]) # ou en seule ligne: [p[1] for p in dessin]\n",
    "    print(x)\n",
    "    print(y)\n",
    "    plot(x, y)\n",
    "    show()\n",
    "\n",
    "affiche_dessin(dessin1)"
   ]
  },
  {
   "cell_type": "markdown",
   "id": "detailed-gardening",
   "metadata": {},
   "source": [
    "Donc les dessins sont constitués d'un ensemble de points (x, y), reliés par des segments.  \n",
    "- => Pour calculer le rectangle circonscrit ou englobant chaque dessin, il faut rechercher les valeurs minimales et maximales sur l'abscisse x (largeur) et sur l'ordonnée y (hauteur).  \n",
    "- => Puis, retourner la largeur et la hauteur du rectangle."
   ]
  },
  {
   "cell_type": "code",
   "execution_count": 18,
   "id": "6001c4b8",
   "metadata": {},
   "outputs": [
    {
     "name": "stdout",
     "output_type": "stream",
     "text": [
      "Dimensions L x H du dessin1 = (100, 100)\n",
      "Dimensions L x H du dessin2 = (264, 127)\n",
      "Dimensions L x H du dessin3 = (371, 172)\n"
     ]
    }
   ],
   "source": [
    "def dimensions(dessin):\n",
    "    \"Retourne les dimensions de 'dessin' => L et H\"\n",
    "    # Déclaration et affectation des variables, avec le 1er point de la liste de points\n",
    "    xmin, ymin = dessin[0]\n",
    "    xmax, ymax = dessin[0]\n",
    "    for x, y in dessin:    # parcours de la liste 'dessin'\n",
    "        if x < xmin:       # et mise à jour\n",
    "            xmin = x       # des variables\n",
    "        if x > xmax:       # à l'aide de tests\n",
    "            xmax = x\n",
    "        if y < ymin:\n",
    "            ymin = y\n",
    "        if y > ymax:\n",
    "            ymax = y\n",
    "    # On retourne un tuple comprenant: largeur et hauteur:        \n",
    "    return xmax - xmin, ymax - ymin\n",
    "\n",
    "print(f\"Dimensions L x H du dessin1 = {dimensions(dessin1)}\")\n",
    "print(f\"Dimensions L x H du dessin2 = {dimensions(dessin2)}\")\n",
    "print(f\"Dimensions L x H du dessin3 = {dimensions(dessin3)}\")"
   ]
  },
  {
   "cell_type": "markdown",
   "id": "complex-toronto",
   "metadata": {},
   "source": [
    "Profitons de l'appel de: `dimensions()`, pour illustrer trois façons d'itérer sur une liste comprenant des noms de variables, en récupérant à la fois la valeur des variables et leur nom:  \n",
    "\n",
    "*Remarque: Aucune difficulté, si les dessins étaient rangés dans un dictionnaire!*"
   ]
  },
  {
   "cell_type": "code",
   "execution_count": 24,
   "id": "arranged-vanilla",
   "metadata": {},
   "outputs": [
    {
     "name": "stdout",
     "output_type": "stream",
     "text": [
      "Dimensions L x H du dessin0 = (100, 100)\n",
      "Dimensions L x H du dessin1 = (100, 100)\n",
      "Dimensions L x H du dessin2 = (100, 100)\n",
      "\n",
      "Dimensions L x H : (100, 100) => pour le dessin1\n",
      "Dimensions L x H : (264, 127) => pour le dessin2\n",
      "Dimensions L x H : (371, 172) => pour le dessin3\n",
      "\n",
      "Largeur et hauteur pour le dessin0 = (100, 100) \n",
      "Largeur et hauteur pour le dessin1 = (264, 127) \n",
      "Largeur et hauteur pour le dessin2 = (371, 172) \n"
     ]
    }
   ],
   "source": [
    "# Version classique avec 'in range':\n",
    "lstDessin = [dessin1, dessin2, dessin3]\n",
    "for i in range(len(lstDessin)):\n",
    "    print(f\"Dimensions L x H du dessin{i} = {dimensions(dessin1)}\")\n",
    "print()    \n",
    "\n",
    "# Version avec itération sur la liste, mais cela necessite de gérer un index:\n",
    "i=0    \n",
    "for dessin in [dessin1, dessin2, dessin3] :\n",
    "    i +=1\n",
    "    print(f\"Dimensions L x H : {dimensions(dessin)} => pour le dessin{i}\")\n",
    "print()\n",
    "\n",
    "# Version utilisant la fonction 'enumerate()' => voir chapitre 5:\n",
    "for dessin in enumerate([dessin1, dessin2, dessin3]) :\n",
    "    print(f\"Largeur et hauteur pour le dessin{dessin[0]} = {dimensions(dessin[1])} \")"
   ]
  },
  {
   "cell_type": "markdown",
   "id": "metallic-victoria",
   "metadata": {},
   "source": [
    "Voici une variante de la fonction `dimensions()`, qui utilise les fonctions natives de Python: `min()` et `max()`: => voir chapitre 5"
   ]
  },
  {
   "cell_type": "code",
   "execution_count": 12,
   "id": "ethical-former",
   "metadata": {},
   "outputs": [
    {
     "name": "stdout",
     "output_type": "stream",
     "text": [
      "Dimensions L x H du dessin1 = (100, 100)\n",
      "Dimensions L x H du dessin2 = (264, 127)\n",
      "Dimensions L x H du dessin3 = (371, 172)\n"
     ]
    }
   ],
   "source": [
    "def dimensions_bis(dessin):\n",
    "    \"Retourne les dimensions de 'dessin' => L et H\"\n",
    "    x = [p[0] for p in dessin]   # Construction d'une liste des abscisses, par compréhension\n",
    "    y = [p[1] for p in dessin]   # Construction d'une liste des ordonnées, par compréhension\n",
    "    xmin, xmax = min(x), max(x)\n",
    "    ymin, ymax = min(y), max(y)\n",
    "    # On retourne un tuple comprenant: largeur et hauteur:        \n",
    "    return xmax - xmin, ymax - ymin\n",
    "\n",
    "print(f\"Dimensions L x H du dessin1 = {dimensions_bis(dessin1)}\")\n",
    "print(f\"Dimensions L x H du dessin2 = {dimensions_bis(dessin2)}\")\n",
    "print(f\"Dimensions L x H du dessin3 = {dimensions_bis(dessin3)}\")"
   ]
  },
  {
   "cell_type": "markdown",
   "id": "broad-testament",
   "metadata": {},
   "source": [
    "c) Écrire une fonction qui calcule la longueur du dessin (la longueur du trait), en utilisant la fonction `distance` de la première question.  \n",
    "\n",
    "Les points du dessin sont reliés par des traits => \n",
    "La longueur du dessin est la somme des longueurs de ses traits."
   ]
  },
  {
   "cell_type": "code",
   "execution_count": 8,
   "id": "automatic-candidate",
   "metadata": {},
   "outputs": [
    {
     "name": "stdout",
     "output_type": "stream",
     "text": [
      "482.842712474619\n",
      "1199.3044925163638\n",
      "1440.6565912530054\n"
     ]
    }
   ],
   "source": [
    "def longueur(dessin):\n",
    "    \"\"\" Retourne la longueur total du dessin \"\"\"\n",
    "    long = 0\n",
    "    for i in range(len(dessin) - 1): # attention : distance entre 2 points:\n",
    "        long = long + distance2(dessin[i], dessin[i+1])  #  p(i) et p(i+1)\n",
    "    return long\n",
    "\n",
    "print(longueur(dessin1))\n",
    "print(longueur(dessin2))\n",
    "print(longueur(dessin3))"
   ]
  },
  {
   "cell_type": "markdown",
   "id": "senior-kidney",
   "metadata": {},
   "source": [
    "<h3 style=\"color: SeaGreen\" class=\"fa fa-cog\" >  Exercice 25: </h3>  \n",
    "\n",
    "Le jeu du Scrabble consiste à construire des mots à l’aide de lettres sur une grille. Chaque lettre a une valeur numérique permettant de calculer des scores. Le dictionnaire suivant indique les valeurs des lettres dans les règles françaises du Scrabble :"
   ]
  },
  {
   "cell_type": "code",
   "execution_count": 1,
   "id": "aggregate-ranking",
   "metadata": {},
   "outputs": [],
   "source": [
    "val_lettres = {10: 'kwxyz', 8: 'jq', 4: 'fhv', 3: 'bcp', 2: 'dmg'}\n",
    "# Toutes les autres lettres ont une valeur de 1."
   ]
  },
  {
   "cell_type": "markdown",
   "id": "delayed-killer",
   "metadata": {},
   "source": [
    "a) En utilisant *val_lettres*, calculer la valeur des mots « pizza », « whisky », « dédramatiser » (é compte pour e)."
   ]
  },
  {
   "cell_type": "code",
   "execution_count": 13,
   "id": "smoking-introduction",
   "metadata": {},
   "outputs": [
    {
     "name": "stdout",
     "output_type": "stream",
     "text": [
      "25\n",
      "La valeur de 'chocolat' est de: 15\n",
      "La valeur de 'whisky' est de: 36\n",
      "La valeur de 'dédramatiser' est de: 15\n"
     ]
    }
   ],
   "source": [
    "def val_lettre(lettre):\n",
    "    \"renvoie la valeur de 'lettre' \"\n",
    "    for val, grpe_lettre in val_lettres.items():\n",
    "        if lettre in grpe_lettre:\n",
    "            return val\n",
    "    return 1\n",
    "\n",
    "def val_mot(mot):\n",
    "    \"Retourne la valeur de 'mot' \"\n",
    "    val_mot=0\n",
    "    for lettre in mot:\n",
    "        # Ajouter valeur de 'lettre' a 'val_mot':\n",
    "        val_mot +=val_lettre(lettre)\n",
    "    return val_mot\n",
    "        \n",
    "\n",
    "print(val_mot(\"pizza\"))\n",
    "for mot in [\"chocolat\", \"whisky\", \"dédramatiser\"]:\n",
    "    print(f\"La valeur de '{mot}' est de: {val_mot(mot)}\")      "
   ]
  },
  {
   "cell_type": "markdown",
   "id": "executive-notification",
   "metadata": {},
   "source": [
    "Interrogeons-nous sur l'**efficacité** de notre algorithme: Que se passe t-il si nous avons beaucoup de mots à traiter ?\n",
    "\n",
    "        => Le maillon faible,  ici, c'est ?                      Pourquoi ? \n",
    "\n",
    "<p style= \"color: black\" >La fonction <i>val_lettre()</i>, qui doit pour chaque <i>lettre</i> vérifier la présence de cette <i>lettre</i> dans les chaines de valeur, du dictionnaire. Puis elle retourne la clé correspondant à la chaine comprenant la lettre (donc la valeur du groupe de lettres). </p> \n",
    "<h3 style=\"color: SeaGreen\" class=\"fa fa-cog\" ></h3><p style=\"color: purple\"> => Construire un dictionnaire avec une clé pour chaque lettre de l'alphabet. La valeur associée à chaque clé (lettre) sera la valeur de la lettre: </p>"
   ]
  },
  {
   "cell_type": "code",
   "execution_count": 14,
   "id": "thermal-cargo",
   "metadata": {},
   "outputs": [
    {
     "name": "stdout",
     "output_type": "stream",
     "text": [
      "{'a': 1, 'b': 3, 'c': 3, 'd': 2, 'e': 1, 'f': 4, 'g': 2, 'h': 4, 'i': 1, 'j': 8, 'k': 10, 'l': 1, 'm': 2, 'n': 1, 'o': 1, 'p': 3, 'q': 8, 'r': 1, 's': 1, 't': 1, 'u': 1, 'v': 4, 'w': 10, 'x': 10, 'y': 10, 'z': 10}\n"
     ]
    }
   ],
   "source": [
    "val_Scrabble = {}\n",
    "alphabet = \"abcdefghijklmnopqrstuvwxyz\"\n",
    "for lettre in alphabet:\n",
    "    val_Scrabble[lettre] = val_lettre(lettre)\n",
    "print(val_Scrabble)    "
   ]
  },
  {
   "cell_type": "code",
   "execution_count": 15,
   "id": "western-scale",
   "metadata": {},
   "outputs": [
    {
     "name": "stdout",
     "output_type": "stream",
     "text": [
      "La valeur de 'entrais' est de: 7 points\n",
      "La valeur de 'ratines' est de: 7 points\n",
      "La valeur de 'satiner' est de: 7 points\n",
      "La valeur de 'riantes' est de: 7 points\n",
      "La valeur de 'transie' est de: 7 points\n",
      "La valeur de 'chocolat' est de: 15 points\n",
      "La valeur de 'whisky' est de: 36 points\n"
     ]
    },
    {
     "ename": "KeyError",
     "evalue": "'é'",
     "output_type": "error",
     "traceback": [
      "\u001b[0;31m---------------------------------------------------------------------------\u001b[0m",
      "\u001b[0;31mKeyError\u001b[0m                                  Traceback (most recent call last)",
      "\u001b[0;32m/tmp/ipykernel_1379/627189052.py\u001b[0m in \u001b[0;36m<module>\u001b[0;34m\u001b[0m\n\u001b[1;32m     11\u001b[0m     \u001b[0mprint\u001b[0m\u001b[0;34m(\u001b[0m\u001b[0;34mf\"La valeur de '{mot}' est de: {val_mot(mot)} points\"\u001b[0m\u001b[0;34m)\u001b[0m\u001b[0;34m\u001b[0m\u001b[0;34m\u001b[0m\u001b[0m\n\u001b[1;32m     12\u001b[0m \u001b[0;32mfor\u001b[0m \u001b[0mmot\u001b[0m \u001b[0;32min\u001b[0m \u001b[0;34m[\u001b[0m\u001b[0;34m\"chocolat\"\u001b[0m\u001b[0;34m,\u001b[0m \u001b[0;34m\"whisky\"\u001b[0m\u001b[0;34m,\u001b[0m \u001b[0;34m\"dédramatiser\"\u001b[0m\u001b[0;34m]\u001b[0m\u001b[0;34m:\u001b[0m\u001b[0;34m\u001b[0m\u001b[0;34m\u001b[0m\u001b[0m\n\u001b[0;32m---> 13\u001b[0;31m     \u001b[0mprint\u001b[0m\u001b[0;34m(\u001b[0m\u001b[0;34mf\"La valeur de '{mot}' est de: {val_mot(mot)} points\"\u001b[0m\u001b[0;34m)\u001b[0m\u001b[0;34m\u001b[0m\u001b[0;34m\u001b[0m\u001b[0m\n\u001b[0m",
      "\u001b[0;32m/tmp/ipykernel_1379/627189052.py\u001b[0m in \u001b[0;36mval_mot\u001b[0;34m(mot)\u001b[0m\n\u001b[1;32m      5\u001b[0m     \u001b[0;32mfor\u001b[0m \u001b[0mlettre\u001b[0m \u001b[0;32min\u001b[0m \u001b[0mmot\u001b[0m\u001b[0;34m:\u001b[0m\u001b[0;34m\u001b[0m\u001b[0;34m\u001b[0m\u001b[0m\n\u001b[1;32m      6\u001b[0m         \u001b[0;31m# Ajouter valeur de 'lettre' a 'val_mot':\u001b[0m\u001b[0;34m\u001b[0m\u001b[0;34m\u001b[0m\u001b[0;34m\u001b[0m\u001b[0m\n\u001b[0;32m----> 7\u001b[0;31m         \u001b[0mval_mot\u001b[0m \u001b[0;34m+=\u001b[0m\u001b[0mval_Scrabble\u001b[0m\u001b[0;34m[\u001b[0m\u001b[0mlettre\u001b[0m\u001b[0;34m]\u001b[0m\u001b[0;34m\u001b[0m\u001b[0;34m\u001b[0m\u001b[0m\n\u001b[0m\u001b[1;32m      8\u001b[0m     \u001b[0;32mreturn\u001b[0m \u001b[0mval_mot\u001b[0m\u001b[0;34m\u001b[0m\u001b[0;34m\u001b[0m\u001b[0m\n\u001b[1;32m      9\u001b[0m \u001b[0;34m\u001b[0m\u001b[0m\n",
      "\u001b[0;31mKeyError\u001b[0m: 'é'"
     ]
    }
   ],
   "source": [
    "#Une fois le dictionnaire 'val_Scrabble' construit, il est plus simple de trouver la valeur d'une lettre!\n",
    "def val_mot(mot):\n",
    "    \"Retourne la valeur de 'mot' \"\n",
    "    val_mot=0\n",
    "    for lettre in mot:\n",
    "        # Ajouter valeur de 'lettre' a 'val_mot':\n",
    "        val_mot +=val_Scrabble[lettre]\n",
    "    return val_mot\n",
    "\n",
    "for mot in [\"entrais\", \"ratines\", \"satiner\", \"riantes\", \"transie\"]:\n",
    "    print(f\"La valeur de '{mot}' est de: {val_mot(mot)} points\")\n",
    "for mot in [\"chocolat\", \"whisky\", \"dédramatiser\"]:\n",
    "    print(f\"La valeur de '{mot}' est de: {val_mot(mot)} points\")\n",
    "# Sauf que cette fois nous avons le problème du 'é' qui se pose"
   ]
  },
  {
   "cell_type": "code",
   "execution_count": null,
   "id": "divine-badge",
   "metadata": {},
   "outputs": [],
   "source": [
    "def val_mot(mot):\n",
    "    \"Retourne la valeur de 'mot' \"\n",
    "    val_mot=0\n",
    "    for lettre in mot:\n",
    "        # Ajouter valeur de 'lettre' a 'val_mot':\n",
    "        if lettre in val_Scrabble.keys():\n",
    "            val_mot +=val_Scrabble[lettre]\n",
    "        else : # La lettre n'est pas dans 'val_Scrabble': => 1\n",
    "            val_mot +=1\n",
    "    return val_mot\n",
    "\n",
    "for mot in [\"chocolat\", \"whisky\", \"dédramatiser\"]:\n",
    "    print(f\"La valeur de '{mot}' est de: {val_mot(mot)}\")"
   ]
  },
  {
   "cell_type": "markdown",
   "id": "fitting-phase",
   "metadata": {},
   "source": [
    "d) Nous avons accès à une case « lettre compte triple » au 4<sup>e</sup> élément d’une rangée de 7 lettres. Cette case triple la valeur des points de la lettre qui est posée dessus. Écrire une fonction permettant de savoir quel mot, d'une liste de mots, rapportera le plus de points."
   ]
  },
  {
   "cell_type": "code",
   "execution_count": null,
   "id": "adjustable-mounting",
   "metadata": {},
   "outputs": [],
   "source": [
    "def lettre_compte_triple(mot, indice):\n",
    "    \"\"\" Retourne la valeur de `mot` au Scrabble, quand la lettre\n",
    "        numéro `indice` compte triple. \"\"\"\n",
    "    return val_mot(mot) + 2 * val_Scrabble[mot[indice]]\n",
    "\n",
    "for mot in [\"entrais\", \"ratines\", \"satiner\", \"riantes\", \"transie\"]:\n",
    "    print(f\"'{mot}' vaut {lettre_compte_triple(mot, 3)} points quand la 4e lettre compte triple.\")\n",
    "for mot in [\"chocolat\", \"whisky\", \"pizza\"]:    \n",
    "    print(f\"'{mot}' vaut {lettre_compte_triple(mot, 3)} points quand la 4e lettre compte triple.\")"
   ]
  }
 ],
 "metadata": {
  "kernelspec": {
   "display_name": "Python 3",
   "language": "python",
   "name": "python3"
  },
  "language_info": {
   "codemirror_mode": {
    "name": "ipython",
    "version": 3
   },
   "file_extension": ".py",
   "mimetype": "text/x-python",
   "name": "python",
   "nbconvert_exporter": "python",
   "pygments_lexer": "ipython3",
   "version": "3.6.9"
  }
 },
 "nbformat": 4,
 "nbformat_minor": 5
}
