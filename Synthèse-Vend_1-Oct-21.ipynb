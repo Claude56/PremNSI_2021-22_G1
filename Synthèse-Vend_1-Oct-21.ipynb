{
 "cells": [
  {
   "cell_type": "markdown",
   "id": "sufficient-gibraltar",
   "metadata": {},
   "source": [
    "<h3 style=\"color: purple\">Mercredi 6 octobre 21:  </h3>\n",
    "\n",
    "<h2  style=\"color: SeaGreen\">    <br>\n",
    "   1 => Synthèse exercices chapitre 2  <br>\n",
    "   2 => Interaction Homme Machine </h2>"
   ]
  },
  {
   "cell_type": "markdown",
   "id": "fresh-saver",
   "metadata": {},
   "source": [
    "<h3  class='fa fa-cog' style=\"color: purple\"> Exercice 20: </h3> <br> \n",
    "    <i class=\"fa fa-arrow-right\" aria-hidden=\"true\"></i>\n",
    "Identification de la température. Il fait:  \n",
    "\n",
    "\n",
    "  très froid/ froid/ frais/ bon/ un peu chaud/ chaud/ très chaud"
   ]
  },
  {
   "cell_type": "code",
   "execution_count": 2,
   "id": "about-national",
   "metadata": {},
   "outputs": [
    {
     "name": "stdout",
     "output_type": "stream",
     "text": [
      "Saisir la température relevée : -50\n",
      "Il fait froid!\n"
     ]
    }
   ],
   "source": [
    "t = int( input('Saisir la température relevée : '))\n",
    "\n",
    "if t<-10:\n",
    "    print('Il fait très froid!')\n",
    "elif t<0:\n",
    "    print('Il fait froid')\n",
    "elif t<15:\n",
    "    print('Il fait frais')\n",
    "elif t<=25:\n",
    "    print('Il fait bon')\n",
    "elif t<30:\n",
    "    print('Il fait chaud')\n",
    "else:\n",
    "    print('Il fait très chaud!')"
   ]
  },
  {
   "cell_type": "markdown",
   "id": "closed-compatibility",
   "metadata": {},
   "source": [
    "<i class=\"fa fa-arrow-right\" aria-hidden=\"true\"></i> Dans l'exemple ci dessus, il être vigilant à l'ordre des tests ou des conditions.\n",
    "\n",
    "<i class=\"fa fa-arrow-right\" aria-hidden=\"true\"></i> Ci dessous, le même exemple mais aves une fonction:  \n"
   ]
  },
  {
   "cell_type": "code",
   "execution_count": 1,
   "id": "familiar-album",
   "metadata": {},
   "outputs": [
    {
     "name": "stdout",
     "output_type": "stream",
     "text": [
      "Saisir la température relevée : 12\n",
      "Il fait ...  frais\n"
     ]
    }
   ],
   "source": [
    "''' Variante exercice 20: => Avec une fonction'''\n",
    "#***  DECLARATION FONCTION:   ***\n",
    "    \n",
    "def identifTemperature(temp):\n",
    "    \"Identifie la température => Renvoi un message (type:string) adapté\"\n",
    "    if temp<-10:\n",
    "        return 'très froid!'\n",
    "    elif temp<0:\n",
    "        return 'froid'\n",
    "    elif temp<15:\n",
    "        return 'frais'\n",
    "    elif temp<=25:\n",
    "        return 'bon'\n",
    "    elif temp<30:\n",
    "        return 'chaud'\n",
    "    else:\n",
    "        return 'très chaud!'\n",
    "\n",
    "#*** LE PROGRAMME PRINCIPAL:  ***\n",
    "    \n",
    "t = int( input('Saisir la température relevée : '))        \n",
    "print('Il fait ... ',identifTemperature(t))"
   ]
  },
  {
   "cell_type": "markdown",
   "id": "graphic-bouquet",
   "metadata": {},
   "source": [
    "<i class=\"fa fa-arrow-right\" aria-hidden=\"true\"></i> A propos de la documentation des fonctions:  \n",
    "Python implémente une méthode spéciale '.__doc__' permettant d'extraire la 'docstring' d'une fonction:  \n",
    "=> fonction.__doc__"
   ]
  },
  {
   "cell_type": "code",
   "execution_count": 2,
   "id": "flexible-geology",
   "metadata": {},
   "outputs": [
    {
     "name": "stdout",
     "output_type": "stream",
     "text": [
      "Identifie la température => Renvoi un message (type:string) adapté\n"
     ]
    }
   ],
   "source": [
    "'''Exemple: '''\n",
    "print(identifTemperature.__doc__)"
   ]
  },
  {
   "cell_type": "markdown",
   "id": "breathing-scheduling",
   "metadata": {},
   "source": [
    "<h3  class='fa fa-cog' style=\"color: purple\"> Exercices 21;22: </h3>\n",
    "\n",
    "<i class=\"fa fa-arrow-right\" aria-hidden=\"true\"></i> ANNÉE BISSEXTILE:  \n",
    "Rappel: Une année est bissextile si elle est divisible par 4.  \n",
    "Les siècles ne sont pas bissextiles, sauf les multiples de 400."
   ]
  },
  {
   "cell_type": "code",
   "execution_count": 7,
   "id": "assured-velvet",
   "metadata": {},
   "outputs": [
    {
     "name": "stdout",
     "output_type": "stream",
     "text": [
      "Saisir une année : 1944\n",
      "L'année 1944 est-elle bissextile ? Oui\n"
     ]
    }
   ],
   "source": [
    "# Version 1: a = Année bissextile ?\n",
    "\n",
    "a = int( input('Saisir une année : '))\n",
    "print(f\"L'année {a} est-elle bissextile ?\", end=' ')\n",
    "if (a%4==0 and a%100!=0) or a%400==0:\n",
    "    print('Oui')\n",
    "else:\n",
    "    print('Non')"
   ]
  },
  {
   "cell_type": "code",
   "execution_count": null,
   "id": "simplified-times",
   "metadata": {},
   "outputs": [],
   "source": [
    "# Version 2: Avec le nb de jours du mois\n",
    "\n",
    "a = int( input('Saisir une année : '))\n",
    "bissextile = False\n",
    "if (a%4==0 and a%100!=0) or a%400==0:\n",
    "    bissextile = True\n",
    "print(f\"L'année {a} est-elle bissextile ? {bissextile}\")\n",
    "    \n",
    "m = int( input('Saisir un numéro de mois : '))\n",
    "if m==2 and bissextile:\n",
    "    print(f\"Le nombre de jour du mois {m} de l'année {a} est: 29\")\n",
    "elif m==2 and not bissextile:\n",
    "    print(f\"Le nombre de jour du mois {m} de l'année {a} est: 28\")\n",
    "elif (m<=7 and m%2==1) or (m>7 and m%2==0):\n",
    "    print(f\"Le nombre de jour du mois {m} de l'année {a} est: 31\")\n",
    "elif (m<=7 and m%2==0) or (m>7 and m%2==1):    \n",
    "    print(f\"Le nombre de jour du mois {m} de l'année {a} est: 30\")\n",
    "else:\n",
    "    print(\"Le numéro du mois n'est pas reconnu\")"
   ]
  },
  {
   "cell_type": "code",
   "execution_count": null,
   "id": "biblical-avenue",
   "metadata": {},
   "outputs": [],
   "source": [
    "# Version 2: Avec le nb de jours du mois => Variante 1\n",
    "\n",
    "a = int( input('Saisir une année : '))\n",
    "bissextile = False\n",
    "if (a%4==0 and a%100!=0) or a%400==0:\n",
    "    bissextile = True\n",
    "print(f\"L'année {a} est-elle bissextile ? {bissextile}\")\n",
    "\n",
    "m = int( input('Saisir un numéro de mois : '))\n",
    "jours = 31\n",
    "if m < 7 and m % 2 == 0 or m > 7 and m % 2 == 1:\n",
    "    jours = 30\n",
    "if m == 2:\n",
    "    jours = 28\n",
    "    if bissextile:\n",
    "        jours = 29\n",
    "\n",
    "print(f\"Le nombre de jour du mois {m} de l'année {a} est: {jours}\")"
   ]
  },
  {
   "cell_type": "code",
   "execution_count": null,
   "id": "undefined-greece",
   "metadata": {},
   "outputs": [],
   "source": [
    "# Version 2: Avec le nb de jours du mois => Variante 2\n",
    "\n",
    "a = int( input('Saisir une année : '))\n",
    "bissextile = False\n",
    "if (a%4==0 and a%100!=0) or a%400==0:\n",
    "    bissextile = True\n",
    "print(f\"L'année {a} est-elle bissextile ? {bissextile}\")\n",
    "\n",
    "m = int( input('Saisir un numéro de mois : '))\n",
    "jours = 31\n",
    "if m < 7 and m % 2 == 0 or m > 7 and m % 2 == 1:\n",
    "    jours = 30\n",
    "if m == 2:\n",
    "    jours = 29 if bissextile else 28 # Exemple avec opérateur ternaire\n",
    "    #jours = (28, 29) [bissextile] # Autre forme: tjs avec ternaire\n",
    "\n",
    "print(f\"Le nombre de jour du mois {m} de l'année {a} est: {jours}\")"
   ]
  },
  {
   "cell_type": "markdown",
   "id": "careful-outdoors",
   "metadata": {},
   "source": [
    "[A tester avec Python Tutor](https://pythontutor.com/live.html#mode=edit)"
   ]
  },
  {
   "cell_type": "markdown",
   "id": "executive-staff",
   "metadata": {},
   "source": [
    "<h2 class='fa fa-cog' style=\"color: SeaGreen\">   => Retour sur Les variables: locales et globales</h2>"
   ]
  },
  {
   "cell_type": "code",
   "execution_count": 2,
   "id": "religious-employee",
   "metadata": {},
   "outputs": [
    {
     "name": "stdout",
     "output_type": "stream",
     "text": [
      "10\n"
     ]
    }
   ],
   "source": [
    "'''Exemple 1'''\n",
    "a = 10      # variable globale\n",
    "\n",
    "def fonction():\n",
    "    a = 5   # variable locale: càd propre à la fonction \n",
    "\n",
    "fonction()\n",
    "print(a)    # référence la variable globale? local ? => affiche ???"
   ]
  },
  {
   "cell_type": "code",
   "execution_count": 3,
   "id": "adult-german",
   "metadata": {},
   "outputs": [
    {
     "name": "stdout",
     "output_type": "stream",
     "text": [
      "5\n",
      "10\n"
     ]
    }
   ],
   "source": [
    "''' Exemple 2'''\n",
    "\n",
    "a = 10      # variable globale\n",
    "\n",
    "def fonction(a):   # paramètre => variable locale\n",
    "    print(a)    # affiche la valeur du paramètre\n",
    "\n",
    "fonction(5)        # affiche ? => ?\n",
    "print(a)    # référence la variable globale/locale ? => affiche ?"
   ]
  },
  {
   "cell_type": "code",
   "execution_count": 4,
   "id": "sufficient-necessity",
   "metadata": {},
   "outputs": [
    {
     "name": "stdout",
     "output_type": "stream",
     "text": [
      "bonjour\n"
     ]
    }
   ],
   "source": [
    "'''Exemple 3'''\n",
    "\n",
    "message = \"bonjour\" # variable globale\n",
    "\n",
    "def fonction():\n",
    "    print(message)  # référence à la variable ?\n",
    "\n",
    "fonction()          # affiche ?"
   ]
  },
  {
   "cell_type": "code",
   "execution_count": 5,
   "id": "practical-large",
   "metadata": {},
   "outputs": [
    {
     "name": "stdout",
     "output_type": "stream",
     "text": [
      "bye\n",
      "bonjour\n"
     ]
    }
   ],
   "source": [
    "'''Exemple 4'''\n",
    "\n",
    "message = \"bonjour\"   # variable globale\n",
    "\n",
    "def fonction():\n",
    "    message = \"bye\"   # affectation qui crée une variable locale\n",
    "    print(message)    # référence à la variable ?\n",
    "\n",
    "fonction()            # affiche ?\n",
    "print(message)        # affiche ?"
   ]
  },
  {
   "cell_type": "code",
   "execution_count": 7,
   "id": "organizational-printing",
   "metadata": {},
   "outputs": [
    {
     "name": "stdout",
     "output_type": "stream",
     "text": [
      "bye\n",
      "bye\n"
     ]
    }
   ],
   "source": [
    "'''Exemple 5: => Effet de bord'''\n",
    "\n",
    "message = \"bonjour\"   # variable globale\n",
    "\n",
    "def fonction():\n",
    "    global message    # déclarer la référence à la variable globale\n",
    "    message = \"bye\"   # affectation de la variable globale\n",
    "    print(message)    # référence à la variable globale\n",
    "\n",
    "fonction()                   # affiche ?\n",
    "print(message)        # affiche ? => la valeur de message a changé"
   ]
  },
  {
   "cell_type": "code",
   "execution_count": 11,
   "id": "nutritional-madness",
   "metadata": {},
   "outputs": [
    {
     "name": "stdout",
     "output_type": "stream",
     "text": [
      "Oui ? Qui m'appelle ?\n"
     ]
    }
   ],
   "source": [
    "'''Exemple 6:'''\n",
    "\n",
    "trace = True\n",
    "\n",
    "def fonction():\n",
    "    # Tagada tsoin tsoin...\n",
    "    global trace\n",
    "    if trace:\n",
    "        print(\"Oui ? Qui m'appelle ?\")\n",
    "        trace = False\n",
    "\n",
    "#trace= False       \n",
    "fonction()\n"
   ]
  },
  {
   "cell_type": "markdown",
   "id": "fourth-resistance",
   "metadata": {},
   "source": [
    "<h1 style=\"color: navy\"> Les interactions homme machine : IHM (Chapitre 3) </h1>"
   ]
  },
  {
   "cell_type": "markdown",
   "id": "caroline-harvey",
   "metadata": {},
   "source": [
    "<h2 class='fa fa-cog' style=\"color: SeaGreen\">   => Interaction textuelle </h2>\n",
    "Interaction sous forme de texte dans la console Python:  \n",
    "![image_1](Console.png)\n",
    "<h2  style=\"color: SeaGreen\"> Afficher du texte </h2>"
   ]
  },
  {
   "cell_type": "code",
   "execution_count": null,
   "id": "instructional-patch",
   "metadata": {},
   "outputs": [],
   "source": [
    "a = 3\n",
    "b = 5.4\n",
    "print(\"La somme de\", a, \"et\", b, \"est égale à\", a+b)"
   ]
  },
  {
   "cell_type": "code",
   "execution_count": null,
   "id": "incomplete-convertible",
   "metadata": {},
   "outputs": [],
   "source": [
    "'''Formatage des chaînes'''\n",
    "a = 8\n",
    "b = 3\n",
    "# la méthode format:\n",
    "print(\"Le nombre {} élevé à la puissance {} est égal à {}\".format(a, b, a**b))\n",
    "# la f-string:\n",
    "print(f\"Le produit de {a} par {b} est égal à: {a*b}\")"
   ]
  },
  {
   "cell_type": "markdown",
   "id": "lesser-hacker",
   "metadata": {},
   "source": [
    "<h2  style=\"color: SeaGreen\"> Lire une saisie au clavier </h2>"
   ]
  },
  {
   "cell_type": "code",
   "execution_count": null,
   "id": "graphic-stationery",
   "metadata": {},
   "outputs": [],
   "source": [
    "# Saisir des valeurs données par l'utilisateur:\n",
    "a = input(\"Valeur de a ? \")\n",
    "b = input(\"Valeur de b ? \")\n",
    "print(f\"Resultat = {a+b}\")"
   ]
  },
  {
   "cell_type": "code",
   "execution_count": null,
   "id": "compatible-jones",
   "metadata": {},
   "outputs": [],
   "source": [
    "# A tester:\n",
    "a = input(\"Valeur de a ? \") # Toto\n",
    "b = input(\"Valeur de b ? \") # Titi\n",
    "print(f\"Resultat = {int(a)+int(b)}\")"
   ]
  },
  {
   "cell_type": "markdown",
   "id": "sublime-denial",
   "metadata": {},
   "source": [
    "<h2  style=\"color: SeaGreen\">Gérer les erreurs dans les entrées : l’instruction `try`</h2>"
   ]
  },
  {
   "cell_type": "code",
   "execution_count": null,
   "id": "hungry-brick",
   "metadata": {},
   "outputs": [],
   "source": [
    "try:\n",
    "    a = float( input(\"Valeur de a ? \") )\n",
    "    print(\"Resultat = \", a)\n",
    "except ValueError:\n",
    "    print(\"Oups, a n'est pas un nombre.\")"
   ]
  },
  {
   "cell_type": "code",
   "execution_count": null,
   "id": "owned-ability",
   "metadata": {},
   "outputs": [],
   "source": [
    "ok = False\n",
    "while not ok:       # tant que la saisie n'est pas correcte\n",
    "    try:\n",
    "        a = float( input(\"Valeur de a ? \") )\n",
    "        ok = True       # saisie correcte\n",
    "    except ValueError:  # saisie incorrecte\n",
    "        print(\"Erreur de saisie ! Entrer une valeur flottante :\")"
   ]
  },
  {
   "cell_type": "markdown",
   "id": "ongoing-moral",
   "metadata": {},
   "source": [
    "<h1 style=\"color: navy\">Interaction graphique</h1>"
   ]
  },
  {
   "cell_type": "code",
   "execution_count": null,
   "id": "unsigned-sheffield",
   "metadata": {},
   "outputs": [],
   "source": [
    "# Importer la bibliothèque nsi_ui\n",
    "from nsi_ui import *"
   ]
  },
  {
   "cell_type": "markdown",
   "id": "fabulous-renewal",
   "metadata": {},
   "source": [
    "<h2 class='fa fa-cog' style=\"color: SeaGreen\"> Fonction de rappel: </h1>"
   ]
  },
  {
   "cell_type": "code",
   "execution_count": null,
   "id": "collectible-department",
   "metadata": {},
   "outputs": [],
   "source": [
    "def coucou():\n",
    "    print(\"Coucou\")\n",
    "def repete(f):  # f est une fonction\n",
    "    f()         # on appelle f ...\n",
    "    f()         # ... deux fois\n",
    "\n",
    "repete(coucou)  # affiche \"Coucou\" deux foisa"
   ]
  },
  {
   "cell_type": "code",
   "execution_count": null,
   "id": "organic-disabled",
   "metadata": {},
   "outputs": [],
   "source": [
    "from nsi_turtle import * # pour importer la fonction clear\n",
    "\n",
    "button(\"Effacer\", clear) # appelle clear() lorsqu'on clique le bouton\n",
    "start_ui()"
   ]
  }
 ],
 "metadata": {
  "kernelspec": {
   "display_name": "Python 3",
   "language": "python",
   "name": "python3"
  },
  "language_info": {
   "codemirror_mode": {
    "name": "ipython",
    "version": 3
   },
   "file_extension": ".py",
   "mimetype": "text/x-python",
   "name": "python",
   "nbconvert_exporter": "python",
   "pygments_lexer": "ipython3",
   "version": "3.6.9"
  }
 },
 "nbformat": 4,
 "nbformat_minor": 5
}
